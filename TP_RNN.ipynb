{
 "cells": [
  {
   "cell_type": "markdown",
   "metadata": {},
   "source": [
    "<center>\n",
    "    <h1 style=\"color: #1B2631;\"> Compte Rendu du TP N°4 : Les Réseaux de Neurones Récurrents\n",
    "\n",
    "</h1>\n",
    "<span style=\"font-size: 20px;\">Réaliser par :Nesrine CHAOUANI   Saifeddine BENZAIED  Rayan BOUNEB</span>\n",
    "</center>\n",
    "\n",
    "\n"
   ]
  },
  {
   "cell_type": "markdown",
   "metadata": {},
   "source": [
    "### Objectif :\n",
    "Ce TP a pour objectif d’appliquer trois types différents de réseaux de neurones profonds sur un\n",
    "ensemble de données du monde réel. Nous utiliserons le réseau de neurones à connexion dense\n",
    "(réseau de neurones de base), le réseau de neurones convolutionnel (CNN) et le réseau de\n",
    "mémoire à long court terme (LSTM), qui est une variante des réseaux de neurones récurrents.\n",
    "Nous allons utiliser Keras Embedding Layer et GloVe comme word embedding pour convertir\n",
    "le texte en forme numérique."
   ]
  },
  {
   "cell_type": "markdown",
   "metadata": {},
   "source": [
    "### Importation des bibliothèques :"
   ]
  },
  {
   "cell_type": "code",
   "execution_count": 2,
   "metadata": {
    "id": "lvQ3v4H7YLES"
   },
   "outputs": [],
   "source": [
    "import pandas as pd\n",
    "import numpy as np\n",
    "import re\n",
    "import nltk\n",
    "from nltk.corpus import stopwords\n",
    "from numpy import array\n",
    "from keras.preprocessing.text import one_hot\n",
    "from keras.preprocessing.sequence import pad_sequences\n",
    "from keras.models import Sequential\n",
    "from keras.layers import Activation, Dropout, Dense\n",
    "from keras.layers import Flatten\n",
    "from keras.layers import Conv1D\n",
    "from keras.layers import GlobalMaxPooling1D\n",
    "from keras.layers import LSTM\n",
    "from keras.layers import Embedding\n",
    "from sklearn.model_selection import train_test_split\n",
    "from keras.preprocessing.text import Tokenizer"
   ]
  },
  {
   "cell_type": "markdown",
   "metadata": {},
   "source": [
    "### Importation du dataset :"
   ]
  },
  {
   "cell_type": "code",
   "execution_count": 3,
   "metadata": {
    "colab": {
     "base_uri": "https://localhost:8080/"
    },
    "id": "bjCTEaGlYMML",
    "outputId": "4566359a-3d8e-418c-d490-98c7760d09e1"
   },
   "outputs": [
    {
     "name": "stdout",
     "output_type": "stream",
     "text": [
      "--2024-05-07 11:07:40--  https://raw.githubusercontent.com/Ankit152/IMDB-sentiment-analysis/master/IMDB-Dataset.csv\n",
      "Resolving raw.githubusercontent.com (raw.githubusercontent.com)... 185.199.111.133, 185.199.109.133, 185.199.108.133, ...\n",
      "Connecting to raw.githubusercontent.com (raw.githubusercontent.com)|185.199.111.133|:443... connected.\n",
      "HTTP request sent, awaiting response... 200 OK\n",
      "Length: 66212309 (63M) [text/plain]\n",
      "Saving to: ‘IMDB-Dataset.csv’\n",
      "\n",
      "IMDB-Dataset.csv    100%[===================>]  63.14M  95.7MB/s    in 0.7s    \n",
      "\n",
      "2024-05-07 11:07:41 (95.7 MB/s) - ‘IMDB-Dataset.csv’ saved [66212309/66212309]\n",
      "\n"
     ]
    }
   ],
   "source": [
    "#!unzip \"/content/IMDB\\ Dataset.csv.zip\" -d \"/content/\"\n",
    "!wget https://raw.githubusercontent.com/Ankit152/IMDB-sentiment-analysis/master/IMDB-Dataset.csv"
   ]
  },
  {
   "cell_type": "code",
   "execution_count": 4,
   "metadata": {
    "colab": {
     "base_uri": "https://localhost:8080/",
     "height": 206
    },
    "id": "b3U3s_kCYRd8",
    "outputId": "438aa0e5-bd2d-4b74-df34-8b3dfa74f9c8"
   },
   "outputs": [
    {
     "data": {
      "application/vnd.google.colaboratory.intrinsic+json": {
       "summary": "{\n  \"name\": \"movie_reviews\",\n  \"rows\": 50000,\n  \"fields\": [\n    {\n      \"column\": \"review\",\n      \"properties\": {\n        \"dtype\": \"string\",\n        \"num_unique_values\": 49582,\n        \"samples\": [\n          \"\\\"Soul Plane\\\" is a horrible attempt at comedy that only should appeal people with thick skulls, bloodshot eyes and furry pawns. <br /><br />The plot is not only incoherent but also non-existent, acting is mostly sub sub-par with a gang of highly moronic and dreadful characters thrown in for bad measure, jokes are often spotted miles ahead and almost never even a bit amusing. This movie lacks any structure and is full of racial stereotypes that must have seemed old even in the fifties, the only thing it really has going for it is some pretty ladies, but really, if you want that you can rent something from the \\\"Adult\\\" section. OK?<br /><br />I can hardly see anything here to recommend since you'll probably have a lot a better and productive time chasing rats with a sledgehammer or inventing waterproof teabags or whatever.<br /><br />2/10\",\n          \"Guest from the Future tells a fascinating story of time travel, friendship, battle of good and evil -- all with a small budget, child actors, and few special effects. Something for Spielberg and Lucas to learn from. ;) A sixth-grader Kolya \\\"Nick\\\" Gerasimov finds a time machine in the basement of a decrepit building and travels 100 years into the future. He discovers a near-perfect, utopian society where robots play guitars and write poetry, everyone is kind to each other and people enjoy everything technology has to offer. Alice is the daughter of a prominent scientist who invented a device called Mielophone that allows to read minds of humans and animals. The device can be put to both good and bad use, depending on whose hands it falls into. When two evil space pirates from Saturn who want to rule the universe attempt to steal Mielophone, it falls into the hands of 20th century school boy Nick. With the pirates hot on his tracks, he travels back to his time, followed by the pirates, and Alice. Chaos, confusion and funny situations follow as the luckless pirates try to blend in with the earthlings. Alice enrolls in the same school Nick goes to and demonstrates superhuman abilities in PE class. The catch is, Alice doesn't know what Nick looks like, while the pirates do. Also, the pirates are able to change their appearance and turn literally into anyone. (Hmm, I wonder if this is where James Cameron got the idea for Terminator...) Who gets to Nick -- and Mielophone -- first? Excellent plot, non-stop adventures, and great soundtrack. I wish Hollywood made kid movies like this one...\",\n          \"\\\"National Treasure\\\" (2004) is a thoroughly misguided hodge-podge of plot entanglements that borrow from nearly every cloak and dagger government conspiracy clich\\u00e9 that has ever been written. The film stars Nicholas Cage as Benjamin Franklin Gates (how precious is that, I ask you?); a seemingly normal fellow who, for no other reason than being of a lineage of like-minded misguided fortune hunters, decides to steal a 'national treasure' that has been hidden by the United States founding fathers. After a bit of subtext and background that plays laughably (unintentionally) like Indiana Jones meets The Patriot, the film degenerates into one misguided whimsy after another \\u0096 attempting to create a 'Stanley Goodspeed' regurgitation of Nicholas Cage and launch the whole convoluted mess forward with a series of high octane, but disconnected misadventures.<br /><br />The relevancy and logic to having George Washington and his motley crew of patriots burying a king's ransom someplace on native soil, and then, going through the meticulous plan of leaving clues scattered throughout U.S. currency art work, is something that director Jon Turteltaub never quite gets around to explaining. Couldn't Washington found better usage for such wealth during the start up of the country? Hence, we are left with a mystery built on top of an enigma that is already on shaky ground by the time Ben appoints himself the new custodian of this untold wealth. Ben's intentions are noble \\u0096 if confusing. He's set on protecting the treasure. For who and when?\\u0085your guess is as good as mine.<br /><br />But there are a few problems with Ben's crusade. First up, his friend, Ian Holmes (Sean Bean) decides that he can't wait for Ben to make up his mind about stealing the Declaration of Independence from the National Archives (oh, yeah \\u0096 brilliant idea!). Presumably, the back of that famous document holds the secret answer to the ultimate fortune. So Ian tries to kill Ben. The assassination attempt is, of course, unsuccessful, if overly melodramatic. It also affords Ben the opportunity to pick up, and pick on, the very sultry curator of the archives, Abigail Chase (Diane Kruger). She thinks Ben is clearly a nut \\u0096 at least at the beginning. But true to action/romance form, Abby's resolve melts quicker than you can say, \\\"is that the Hope Diamond?\\\" The film moves into full X-File-ish mode, as the FBI, mistakenly believing that Ben is behind the theft, retaliate in various benign ways that lead to a multi-layering of action sequences reminiscent of Mission Impossible meets The Fugitive. Honestly, don't those guys ever get 'intelligence' information that is correct? In the final analysis, \\\"National Treasure\\\" isn't great film making, so much as it's a patchwork rehash of tired old bits from other movies, woven together from scraps, the likes of which would make IL' Betsy Ross blush.<br /><br />The Buena Vista DVD delivers a far more generous treatment than this film is deserving of. The anamorphic widescreen picture exhibits a very smooth and finely detailed image with very rich colors, natural flesh tones, solid blacks and clean whites. The stylized image is also free of blemishes and digital enhancements. The audio is 5.1 and delivers a nice sonic boom to your side and rear speakers with intensity and realism. Extras include a host of promotional junket material that is rather deep and over the top in its explanation of how and why this film was made. If only, as an audience, we had had more clarification as to why Ben and co. were chasing after an illusive treasure, this might have been one good flick. Extras conclude with the theatrical trailer, audio commentary and deleted scenes. Not for the faint-hearted \\u0096 just the thick-headed.\"\n        ],\n        \"semantic_type\": \"\",\n        \"description\": \"\"\n      }\n    },\n    {\n      \"column\": \"sentiment\",\n      \"properties\": {\n        \"dtype\": \"category\",\n        \"num_unique_values\": 2,\n        \"samples\": [\n          \"negative\",\n          \"positive\"\n        ],\n        \"semantic_type\": \"\",\n        \"description\": \"\"\n      }\n    }\n  ]\n}",
       "type": "dataframe",
       "variable_name": "movie_reviews"
      },
      "text/html": [
       "\n",
       "  <div id=\"df-005f32b5-bc0e-4a36-8974-d1f618eb04bb\" class=\"colab-df-container\">\n",
       "    <div>\n",
       "<style scoped>\n",
       "    .dataframe tbody tr th:only-of-type {\n",
       "        vertical-align: middle;\n",
       "    }\n",
       "\n",
       "    .dataframe tbody tr th {\n",
       "        vertical-align: top;\n",
       "    }\n",
       "\n",
       "    .dataframe thead th {\n",
       "        text-align: right;\n",
       "    }\n",
       "</style>\n",
       "<table border=\"1\" class=\"dataframe\">\n",
       "  <thead>\n",
       "    <tr style=\"text-align: right;\">\n",
       "      <th></th>\n",
       "      <th>review</th>\n",
       "      <th>sentiment</th>\n",
       "    </tr>\n",
       "  </thead>\n",
       "  <tbody>\n",
       "    <tr>\n",
       "      <th>0</th>\n",
       "      <td>One of the other reviewers has mentioned that ...</td>\n",
       "      <td>positive</td>\n",
       "    </tr>\n",
       "    <tr>\n",
       "      <th>1</th>\n",
       "      <td>A wonderful little production. &lt;br /&gt;&lt;br /&gt;The...</td>\n",
       "      <td>positive</td>\n",
       "    </tr>\n",
       "    <tr>\n",
       "      <th>2</th>\n",
       "      <td>I thought this was a wonderful way to spend ti...</td>\n",
       "      <td>positive</td>\n",
       "    </tr>\n",
       "    <tr>\n",
       "      <th>3</th>\n",
       "      <td>Basically there's a family where a little boy ...</td>\n",
       "      <td>negative</td>\n",
       "    </tr>\n",
       "    <tr>\n",
       "      <th>4</th>\n",
       "      <td>Petter Mattei's \"Love in the Time of Money\" is...</td>\n",
       "      <td>positive</td>\n",
       "    </tr>\n",
       "  </tbody>\n",
       "</table>\n",
       "</div>\n",
       "    <div class=\"colab-df-buttons\">\n",
       "\n",
       "  <div class=\"colab-df-container\">\n",
       "    <button class=\"colab-df-convert\" onclick=\"convertToInteractive('df-005f32b5-bc0e-4a36-8974-d1f618eb04bb')\"\n",
       "            title=\"Convert this dataframe to an interactive table.\"\n",
       "            style=\"display:none;\">\n",
       "\n",
       "  <svg xmlns=\"http://www.w3.org/2000/svg\" height=\"24px\" viewBox=\"0 -960 960 960\">\n",
       "    <path d=\"M120-120v-720h720v720H120Zm60-500h600v-160H180v160Zm220 220h160v-160H400v160Zm0 220h160v-160H400v160ZM180-400h160v-160H180v160Zm440 0h160v-160H620v160ZM180-180h160v-160H180v160Zm440 0h160v-160H620v160Z\"/>\n",
       "  </svg>\n",
       "    </button>\n",
       "\n",
       "  <style>\n",
       "    .colab-df-container {\n",
       "      display:flex;\n",
       "      gap: 12px;\n",
       "    }\n",
       "\n",
       "    .colab-df-convert {\n",
       "      background-color: #E8F0FE;\n",
       "      border: none;\n",
       "      border-radius: 50%;\n",
       "      cursor: pointer;\n",
       "      display: none;\n",
       "      fill: #1967D2;\n",
       "      height: 32px;\n",
       "      padding: 0 0 0 0;\n",
       "      width: 32px;\n",
       "    }\n",
       "\n",
       "    .colab-df-convert:hover {\n",
       "      background-color: #E2EBFA;\n",
       "      box-shadow: 0px 1px 2px rgba(60, 64, 67, 0.3), 0px 1px 3px 1px rgba(60, 64, 67, 0.15);\n",
       "      fill: #174EA6;\n",
       "    }\n",
       "\n",
       "    .colab-df-buttons div {\n",
       "      margin-bottom: 4px;\n",
       "    }\n",
       "\n",
       "    [theme=dark] .colab-df-convert {\n",
       "      background-color: #3B4455;\n",
       "      fill: #D2E3FC;\n",
       "    }\n",
       "\n",
       "    [theme=dark] .colab-df-convert:hover {\n",
       "      background-color: #434B5C;\n",
       "      box-shadow: 0px 1px 3px 1px rgba(0, 0, 0, 0.15);\n",
       "      filter: drop-shadow(0px 1px 2px rgba(0, 0, 0, 0.3));\n",
       "      fill: #FFFFFF;\n",
       "    }\n",
       "  </style>\n",
       "\n",
       "    <script>\n",
       "      const buttonEl =\n",
       "        document.querySelector('#df-005f32b5-bc0e-4a36-8974-d1f618eb04bb button.colab-df-convert');\n",
       "      buttonEl.style.display =\n",
       "        google.colab.kernel.accessAllowed ? 'block' : 'none';\n",
       "\n",
       "      async function convertToInteractive(key) {\n",
       "        const element = document.querySelector('#df-005f32b5-bc0e-4a36-8974-d1f618eb04bb');\n",
       "        const dataTable =\n",
       "          await google.colab.kernel.invokeFunction('convertToInteractive',\n",
       "                                                    [key], {});\n",
       "        if (!dataTable) return;\n",
       "\n",
       "        const docLinkHtml = 'Like what you see? Visit the ' +\n",
       "          '<a target=\"_blank\" href=https://colab.research.google.com/notebooks/data_table.ipynb>data table notebook</a>'\n",
       "          + ' to learn more about interactive tables.';\n",
       "        element.innerHTML = '';\n",
       "        dataTable['output_type'] = 'display_data';\n",
       "        await google.colab.output.renderOutput(dataTable, element);\n",
       "        const docLink = document.createElement('div');\n",
       "        docLink.innerHTML = docLinkHtml;\n",
       "        element.appendChild(docLink);\n",
       "      }\n",
       "    </script>\n",
       "  </div>\n",
       "\n",
       "\n",
       "<div id=\"df-8b5df9e1-b017-48a3-ac6c-37fb848eaa4d\">\n",
       "  <button class=\"colab-df-quickchart\" onclick=\"quickchart('df-8b5df9e1-b017-48a3-ac6c-37fb848eaa4d')\"\n",
       "            title=\"Suggest charts\"\n",
       "            style=\"display:none;\">\n",
       "\n",
       "<svg xmlns=\"http://www.w3.org/2000/svg\" height=\"24px\"viewBox=\"0 0 24 24\"\n",
       "     width=\"24px\">\n",
       "    <g>\n",
       "        <path d=\"M19 3H5c-1.1 0-2 .9-2 2v14c0 1.1.9 2 2 2h14c1.1 0 2-.9 2-2V5c0-1.1-.9-2-2-2zM9 17H7v-7h2v7zm4 0h-2V7h2v10zm4 0h-2v-4h2v4z\"/>\n",
       "    </g>\n",
       "</svg>\n",
       "  </button>\n",
       "\n",
       "<style>\n",
       "  .colab-df-quickchart {\n",
       "      --bg-color: #E8F0FE;\n",
       "      --fill-color: #1967D2;\n",
       "      --hover-bg-color: #E2EBFA;\n",
       "      --hover-fill-color: #174EA6;\n",
       "      --disabled-fill-color: #AAA;\n",
       "      --disabled-bg-color: #DDD;\n",
       "  }\n",
       "\n",
       "  [theme=dark] .colab-df-quickchart {\n",
       "      --bg-color: #3B4455;\n",
       "      --fill-color: #D2E3FC;\n",
       "      --hover-bg-color: #434B5C;\n",
       "      --hover-fill-color: #FFFFFF;\n",
       "      --disabled-bg-color: #3B4455;\n",
       "      --disabled-fill-color: #666;\n",
       "  }\n",
       "\n",
       "  .colab-df-quickchart {\n",
       "    background-color: var(--bg-color);\n",
       "    border: none;\n",
       "    border-radius: 50%;\n",
       "    cursor: pointer;\n",
       "    display: none;\n",
       "    fill: var(--fill-color);\n",
       "    height: 32px;\n",
       "    padding: 0;\n",
       "    width: 32px;\n",
       "  }\n",
       "\n",
       "  .colab-df-quickchart:hover {\n",
       "    background-color: var(--hover-bg-color);\n",
       "    box-shadow: 0 1px 2px rgba(60, 64, 67, 0.3), 0 1px 3px 1px rgba(60, 64, 67, 0.15);\n",
       "    fill: var(--button-hover-fill-color);\n",
       "  }\n",
       "\n",
       "  .colab-df-quickchart-complete:disabled,\n",
       "  .colab-df-quickchart-complete:disabled:hover {\n",
       "    background-color: var(--disabled-bg-color);\n",
       "    fill: var(--disabled-fill-color);\n",
       "    box-shadow: none;\n",
       "  }\n",
       "\n",
       "  .colab-df-spinner {\n",
       "    border: 2px solid var(--fill-color);\n",
       "    border-color: transparent;\n",
       "    border-bottom-color: var(--fill-color);\n",
       "    animation:\n",
       "      spin 1s steps(1) infinite;\n",
       "  }\n",
       "\n",
       "  @keyframes spin {\n",
       "    0% {\n",
       "      border-color: transparent;\n",
       "      border-bottom-color: var(--fill-color);\n",
       "      border-left-color: var(--fill-color);\n",
       "    }\n",
       "    20% {\n",
       "      border-color: transparent;\n",
       "      border-left-color: var(--fill-color);\n",
       "      border-top-color: var(--fill-color);\n",
       "    }\n",
       "    30% {\n",
       "      border-color: transparent;\n",
       "      border-left-color: var(--fill-color);\n",
       "      border-top-color: var(--fill-color);\n",
       "      border-right-color: var(--fill-color);\n",
       "    }\n",
       "    40% {\n",
       "      border-color: transparent;\n",
       "      border-right-color: var(--fill-color);\n",
       "      border-top-color: var(--fill-color);\n",
       "    }\n",
       "    60% {\n",
       "      border-color: transparent;\n",
       "      border-right-color: var(--fill-color);\n",
       "    }\n",
       "    80% {\n",
       "      border-color: transparent;\n",
       "      border-right-color: var(--fill-color);\n",
       "      border-bottom-color: var(--fill-color);\n",
       "    }\n",
       "    90% {\n",
       "      border-color: transparent;\n",
       "      border-bottom-color: var(--fill-color);\n",
       "    }\n",
       "  }\n",
       "</style>\n",
       "\n",
       "  <script>\n",
       "    async function quickchart(key) {\n",
       "      const quickchartButtonEl =\n",
       "        document.querySelector('#' + key + ' button');\n",
       "      quickchartButtonEl.disabled = true;  // To prevent multiple clicks.\n",
       "      quickchartButtonEl.classList.add('colab-df-spinner');\n",
       "      try {\n",
       "        const charts = await google.colab.kernel.invokeFunction(\n",
       "            'suggestCharts', [key], {});\n",
       "      } catch (error) {\n",
       "        console.error('Error during call to suggestCharts:', error);\n",
       "      }\n",
       "      quickchartButtonEl.classList.remove('colab-df-spinner');\n",
       "      quickchartButtonEl.classList.add('colab-df-quickchart-complete');\n",
       "    }\n",
       "    (() => {\n",
       "      let quickchartButtonEl =\n",
       "        document.querySelector('#df-8b5df9e1-b017-48a3-ac6c-37fb848eaa4d button');\n",
       "      quickchartButtonEl.style.display =\n",
       "        google.colab.kernel.accessAllowed ? 'block' : 'none';\n",
       "    })();\n",
       "  </script>\n",
       "</div>\n",
       "    </div>\n",
       "  </div>\n"
      ],
      "text/plain": [
       "                                              review sentiment\n",
       "0  One of the other reviewers has mentioned that ...  positive\n",
       "1  A wonderful little production. <br /><br />The...  positive\n",
       "2  I thought this was a wonderful way to spend ti...  positive\n",
       "3  Basically there's a family where a little boy ...  negative\n",
       "4  Petter Mattei's \"Love in the Time of Money\" is...  positive"
      ]
     },
     "execution_count": 4,
     "metadata": {},
     "output_type": "execute_result"
    }
   ],
   "source": [
    "movie_reviews=pd.read_csv('/content/IMDB-Dataset.csv')\n",
    "movie_reviews.head()"
   ]
  },
  {
   "cell_type": "code",
   "execution_count": 5,
   "metadata": {
    "colab": {
     "base_uri": "https://localhost:8080/",
     "height": 508
    },
    "id": "AR4e5SOiYV95",
    "outputId": "a7133a55-5a9f-4cf2-d2c2-58bc619bed25"
   },
   "outputs": [
    {
     "name": "stderr",
     "output_type": "stream",
     "text": [
      "<ipython-input-5-bee0a594328d>:4: FutureWarning: \n",
      "\n",
      "Passing `palette` without assigning `hue` is deprecated and will be removed in v0.14.0. Assign the `x` variable to `hue` and set `legend=False` for the same effect.\n",
      "\n",
      "  sns.countplot(data=movie_reviews, x=\"sentiment\", palette=\"Set2\")\n"
     ]
    },
    {
     "data": {
      "image/png": "[encoded data removed]",
      "text/plain": [
       "<Figure size 1000x400 with 1 Axes>"
      ]
     },
     "metadata": {},
     "output_type": "display_data"
    }
   ],
   "source": [
    "import seaborn as sns\n",
    "import matplotlib.pyplot as plt\n",
    "plt.figure(figsize=(10,4))\n",
    "sns.countplot(data=movie_reviews, x=\"sentiment\", palette=\"Set2\")\n",
    "plt.title(\"Sentiment distribution\")\n",
    "plt.show()"
   ]
  },
  {
   "cell_type": "code",
   "execution_count": 13,
   "metadata": {
    "colab": {
     "base_uri": "https://localhost:8080/"
    },
    "id": "SAqjmTo2vEFk",
    "outputId": "2eb618b6-ca59-475a-f6b6-d6399f5548d9",
    "scrolled": true
   },
   "outputs": [
    {
     "name": "stdout",
     "output_type": "stream",
     "text": [
      "4ème review :\n",
      " Basically there's a family where a little boy (Jake) thinks there's a zombie in his closet & his parents are fighting all the time.<br /><br />This movie is slower than a soap opera... and suddenly, Jake decides to become Rambo and kill the zombie.<br /><br />OK, first of all when you're going to make a film you must Decide if its a thriller or a drama! As a drama the movie is watchable. Parents are divorcing & arguing like in real life. And then we have Jake with his closet which totally ruins all the film! I expected to see a BOOGEYMAN similar movie, and instead i watched a drama with some meaningless thriller spots.<br /><br />3 out of 10 just for the well playing parents & descent dialogs. As for the shots with Jake: just ignore them.\n"
     ]
    }
   ],
   "source": [
    "# Affichage du 4ème review\n",
    "fourth_review = movie_reviews.loc[3, 'review']\n",
    "print(\"4ème review :\\n\", fourth_review)"
   ]
  },
  {
   "cell_type": "markdown",
   "metadata": {},
   "source": [
    "##### Afficher le 4ème review, que remarquez-vous ?\n",
    "le review semble indiquer une déception quant à l'exécution du film, en particulier en ce qui concerne la cohérence du genre et l'intérêt des scènes impliquant le personnage de Jake"
   ]
  },
  {
   "cell_type": "code",
   "execution_count": null,
   "metadata": {
    "colab": {
     "base_uri": "https://localhost:8080/"
    },
    "id": "xrzo-evsYYlu",
    "outputId": "3fa0bfcd-7717-429b-a2c5-780e26f9c70c"
   },
   "outputs": [
    {
     "data": {
      "text/plain": [
       "review       0\n",
       "sentiment    0\n",
       "dtype: int64"
      ]
     },
     "execution_count": 5,
     "metadata": {},
     "output_type": "execute_result"
    }
   ],
   "source": [
    "movie_reviews.isna().sum()"
   ]
  },
  {
   "cell_type": "markdown",
   "metadata": {},
   "source": [
    "### Prétraitement de données :"
   ]
  },
  {
   "cell_type": "code",
   "execution_count": 14,
   "metadata": {
    "id": "Uwbl4aUmYdMo"
   },
   "outputs": [],
   "source": [
    "def preprocess_text(sen):\n",
    "    # Removing html tags\n",
    "    sentence = remove_tags(sen)\n",
    "    # Remove punctuations and numbers\n",
    "    sentence = re.sub('[^a-zA-Z]', ' ', sentence)\n",
    "    # Single character removal\n",
    "    sentence = re.sub(r\"\\s+[a-zA-Z]\\s+\", ' ', sentence)\n",
    "    # Removing multiple spaces\n",
    "    sentence = re.sub(r'\\s+', ' ', sentence)\n",
    "    return sentence\n",
    "\n",
    "TAG_RE = re.compile(r'<[^>]+>')\n",
    "def remove_tags(text):\n",
    "    return TAG_RE.sub('', text)"
   ]
  },
  {
   "cell_type": "markdown",
   "metadata": {},
   "source": [
    "#### Explication du code :\n",
    "ce code définit une fonction de prétraitement de texte qui nettoie le texte en supprimant les balises HTML, la ponctuation, les chiffres, les caractères uniques et les espaces multiples. Cela permet de préparer le texte pour une analyse ultérieure, par exemple dans le cadre d'un modèle de traitement du langage naturel (NLP)."
   ]
  },
  {
   "cell_type": "code",
   "execution_count": 15,
   "metadata": {
    "id": "mVS8lG_6YgR4"
   },
   "outputs": [],
   "source": [
    "X = []\n",
    "sentences = list(movie_reviews['review'])\n",
    "for sen in sentences:\n",
    "  X.append(preprocess_text(sen))"
   ]
  },
  {
   "cell_type": "code",
   "execution_count": 16,
   "metadata": {
    "colab": {
     "base_uri": "https://localhost:8080/"
    },
    "id": "B6Wdnbynyw-b",
    "outputId": "66f9c950-d627-4de4-a045-aca60862532c"
   },
   "outputs": [
    {
     "name": "stdout",
     "output_type": "stream",
     "text": [
      "\n",
      "4ème review prétraité :\n",
      " Basically there a family where little boy Jake thinks there a zombie in his closet his parents are fighting all the time This movie is slower than soap opera and suddenly Jake decides to become Rambo and kill the zombie OK first of all when you re going to make film you must Decide if its thriller or drama As drama the movie is watchable Parents are divorcing arguing like in real life And then we have Jake with his closet which totally ruins all the film expected to see BOOGEYMAN similar movie and instead watched drama with some meaningless thriller spots out of just for the well playing parents descent dialogs As for the shots with Jake just ignore them \n"
     ]
    }
   ],
   "source": [
    "print(\"\\n4ème review prétraité :\\n\", X[3])"
   ]
  },
  {
   "cell_type": "markdown",
   "metadata": {},
   "source": [
    "==> Après le prétraitement, le 4ème review a subi plusieurs transformations :\n",
    "\n",
    "-Les balises HTML ont été supprimées.\n",
    "-La ponctuation et les chiffres ont été éliminés.\n",
    "-Les caractères uniques ont été supprimés.\n",
    "-Les espaces multiples ont été réduits à un seul espace. "
   ]
  },
  {
   "cell_type": "code",
   "execution_count": null,
   "metadata": {
    "colab": {
     "base_uri": "https://localhost:8080/",
     "height": 191
    },
    "id": "PzIsidz1YjB1",
    "outputId": "24c1c86b-bd0c-40f9-af3a-0bc41f8c098a"
   },
   "outputs": [
    {
     "data": {
      "application/vnd.google.colaboratory.intrinsic+json": {
       "type": "string"
      },
      "text/plain": [
       "'One of the other reviewers has mentioned that after watching just Oz episode you ll be hooked They are right as this is exactly what happened with me The first thing that struck me about Oz was its brutality and unflinching scenes of violence which set in right from the word GO Trust me this is not show for the faint hearted or timid This show pulls no punches with regards to drugs sex or violence Its is hardcore in the classic use of the word It is called OZ as that is the nickname given to the Oswald Maximum Security State Penitentary It focuses mainly on Emerald City an experimental section of the prison where all the cells have glass fronts and face inwards so privacy is not high on the agenda Em City is home to many Aryans Muslims gangstas Latinos Christians Italians Irish and more so scuffles death stares dodgy dealings and shady agreements are never far away would say the main appeal of the show is due to the fact that it goes where other shows wouldn dare Forget pretty pictures painted for mainstream audiences forget charm forget romance OZ doesn mess around The first episode ever saw struck me as so nasty it was surreal couldn say was ready for it but as watched more developed taste for Oz and got accustomed to the high levels of graphic violence Not just violence but injustice crooked guards who ll be sold out for nickel inmates who ll kill on order and get away with it well mannered middle class inmates being turned into prison bitches due to their lack of street skills or prison experience Watching Oz you may become comfortable with what is uncomfortable viewing thats if you can get in touch with your darker side '"
      ]
     },
     "execution_count": 8,
     "metadata": {},
     "output_type": "execute_result"
    }
   ],
   "source": [
    "X[0]"
   ]
  },
  {
   "cell_type": "code",
   "execution_count": null,
   "metadata": {
    "id": "1Ki_gxKIYlME"
   },
   "outputs": [],
   "source": [
    "y = movie_reviews['sentiment']\n",
    "y = np.array(list(map(lambda x: 1 if x==\"positive\" else 0, y)))"
   ]
  },
  {
   "cell_type": "code",
   "execution_count": null,
   "metadata": {
    "id": "lhUqzI5xYnRN"
   },
   "outputs": [],
   "source": [
    "X_train, X_test, y_train, y_test = train_test_split(X, y,\n",
    "test_size=0.20, random_state=42)"
   ]
  },
  {
   "cell_type": "markdown",
   "metadata": {},
   "source": [
    "### La couche de l’embedding"
   ]
  },
  {
   "cell_type": "code",
   "execution_count": null,
   "metadata": {
    "colab": {
     "base_uri": "https://localhost:8080/"
    },
    "id": "_P3p-gl0Ypmr",
    "outputId": "da437b97-87c8-42fa-fa71-146746dc5544"
   },
   "outputs": [
    {
     "data": {
      "text/plain": [
       "{'the': 1,\n",
       " 'and': 2,\n",
       " 'of': 3,\n",
       " 'to': 4,\n",
       " 'is': 5,\n",
       " 'it': 6,\n",
       " 'in': 7,\n",
       " 'this': 8,\n",
       " 'that': 9,\n",
       " 'was': 10,\n",
       " 'as': 11,\n",
       " 'movie': 12,\n",
       " 'for': 13,\n",
       " 'with': 14,\n",
       " 'but': 15,\n",
       " 'film': 16,\n",
       " 'you': 17,\n",
       " 'on': 18,\n",
       " 'not': 19,\n",
       " 'are': 20,\n",
       " 'he': 21,\n",
       " 'his': 22,\n",
       " 'have': 23,\n",
       " 'one': 24,\n",
       " 'be': 25,\n",
       " 'all': 26,\n",
       " 'at': 27,\n",
       " 'they': 28,\n",
       " 'by': 29,\n",
       " 'an': 30,\n",
       " 'who': 31,\n",
       " 'so': 32,\n",
       " 'from': 33,\n",
       " 'like': 34,\n",
       " 'there': 35,\n",
       " 'or': 36,\n",
       " 'just': 37,\n",
       " 'her': 38,\n",
       " 'out': 39,\n",
       " 'about': 40,\n",
       " 'if': 41,\n",
       " 'has': 42,\n",
       " 'what': 43,\n",
       " 'some': 44,\n",
       " 'good': 45,\n",
       " 'can': 46,\n",
       " 'more': 47,\n",
       " 'very': 48,\n",
       " 'when': 49,\n",
       " 'she': 50,\n",
       " 'up': 51,\n",
       " 'no': 52,\n",
       " 'time': 53,\n",
       " 'my': 54,\n",
       " 'even': 55,\n",
       " 'would': 56,\n",
       " 'which': 57,\n",
       " 'story': 58,\n",
       " 'only': 59,\n",
       " 'really': 60,\n",
       " 'see': 61,\n",
       " 'their': 62,\n",
       " 'had': 63,\n",
       " 'me': 64,\n",
       " 'well': 65,\n",
       " 'we': 66,\n",
       " 'were': 67,\n",
       " 'than': 68,\n",
       " 'much': 69,\n",
       " 'bad': 70,\n",
       " 'been': 71,\n",
       " 'get': 72,\n",
       " 'do': 73,\n",
       " 'people': 74,\n",
       " 'great': 75,\n",
       " 'other': 76,\n",
       " 'also': 77,\n",
       " 'will': 78,\n",
       " 'into': 79,\n",
       " 'how': 80,\n",
       " 'because': 81,\n",
       " 'don': 82,\n",
       " 'first': 83,\n",
       " 'him': 84,\n",
       " 'most': 85,\n",
       " 'made': 86,\n",
       " 'then': 87,\n",
       " 'them': 88,\n",
       " 'its': 89,\n",
       " 'make': 90,\n",
       " 'could': 91,\n",
       " 'way': 92,\n",
       " 'movies': 93,\n",
       " 'too': 94,\n",
       " 'any': 95,\n",
       " 'after': 96,\n",
       " 'think': 97,\n",
       " 'characters': 98,\n",
       " 'watch': 99,\n",
       " 'character': 100,\n",
       " 'films': 101,\n",
       " 'seen': 102,\n",
       " 'two': 103,\n",
       " 'many': 104,\n",
       " 'being': 105,\n",
       " 'plot': 106,\n",
       " 'never': 107,\n",
       " 'love': 108,\n",
       " 'life': 109,\n",
       " 'acting': 110,\n",
       " 'where': 111,\n",
       " 'best': 112,\n",
       " 'did': 113,\n",
       " 'know': 114,\n",
       " 'show': 115,\n",
       " 'little': 116,\n",
       " 'over': 117,\n",
       " 'ever': 118,\n",
       " 'off': 119,\n",
       " 'man': 120,\n",
       " 'does': 121,\n",
       " 'your': 122,\n",
       " 'better': 123,\n",
       " 'i': 124,\n",
       " 'end': 125,\n",
       " 'scene': 126,\n",
       " 'here': 127,\n",
       " 'a': 128,\n",
       " 'still': 129,\n",
       " 'say': 130,\n",
       " 'these': 131,\n",
       " 'scenes': 132,\n",
       " 'why': 133,\n",
       " 'while': 134,\n",
       " 've': 135,\n",
       " 'something': 136,\n",
       " 'such': 137,\n",
       " 'go': 138,\n",
       " 'should': 139,\n",
       " 'through': 140,\n",
       " 'back': 141,\n",
       " 'real': 142,\n",
       " 'those': 143,\n",
       " 'now': 144,\n",
       " 'watching': 145,\n",
       " 'thing': 146,\n",
       " 'm': 147,\n",
       " 're': 148,\n",
       " 'actors': 149,\n",
       " 'doesn': 150,\n",
       " 'though': 151,\n",
       " 'didn': 152,\n",
       " 'years': 153,\n",
       " 'director': 154,\n",
       " 'funny': 155,\n",
       " 'old': 156,\n",
       " 'another': 157,\n",
       " 'actually': 158,\n",
       " 'before': 159,\n",
       " 'work': 160,\n",
       " 'makes': 161,\n",
       " 'nothing': 162,\n",
       " 'look': 163,\n",
       " 'going': 164,\n",
       " 'find': 165,\n",
       " 'lot': 166,\n",
       " 'new': 167,\n",
       " 'same': 168,\n",
       " 'again': 169,\n",
       " 'few': 170,\n",
       " 'every': 171,\n",
       " 'part': 172,\n",
       " 'world': 173,\n",
       " 'cast': 174,\n",
       " 'us': 175,\n",
       " 'down': 176,\n",
       " 'things': 177,\n",
       " 'quite': 178,\n",
       " 'want': 179,\n",
       " 'horror': 180,\n",
       " 'pretty': 181,\n",
       " 'around': 182,\n",
       " 'seems': 183,\n",
       " 'young': 184,\n",
       " 'take': 185,\n",
       " 'got': 186,\n",
       " 'thought': 187,\n",
       " 'however': 188,\n",
       " 'big': 189,\n",
       " 'long': 190,\n",
       " 'fact': 191,\n",
       " 'enough': 192,\n",
       " 'both': 193,\n",
       " 'give': 194,\n",
       " 'may': 195,\n",
       " 'series': 196,\n",
       " 'own': 197,\n",
       " 'must': 198,\n",
       " 'action': 199,\n",
       " 'right': 200,\n",
       " 'without': 201,\n",
       " 'between': 202,\n",
       " 'music': 203,\n",
       " 'comedy': 204,\n",
       " 'original': 205,\n",
       " 'guy': 206,\n",
       " 'times': 207,\n",
       " 'saw': 208,\n",
       " 'always': 209,\n",
       " 'come': 210,\n",
       " 'isn': 211,\n",
       " 'almost': 212,\n",
       " 'point': 213,\n",
       " 'role': 214,\n",
       " 'gets': 215,\n",
       " 'whole': 216,\n",
       " 'least': 217,\n",
       " 'done': 218,\n",
       " 'interesting': 219,\n",
       " 'far': 220,\n",
       " 'script': 221,\n",
       " 'family': 222,\n",
       " 'feel': 223,\n",
       " 'minutes': 224,\n",
       " 'bit': 225,\n",
       " 'making': 226,\n",
       " 'll': 227,\n",
       " 'am': 228,\n",
       " 'anything': 229,\n",
       " 'might': 230,\n",
       " 'since': 231,\n",
       " 'tv': 232,\n",
       " 'probably': 233,\n",
       " 'last': 234,\n",
       " 'performance': 235,\n",
       " 'away': 236,\n",
       " 'kind': 237,\n",
       " 'girl': 238,\n",
       " 'worst': 239,\n",
       " 'fun': 240,\n",
       " 'yet': 241,\n",
       " 'anyone': 242,\n",
       " 'hard': 243,\n",
       " 'woman': 244,\n",
       " 'sure': 245,\n",
       " 'rather': 246,\n",
       " 'day': 247,\n",
       " 'found': 248,\n",
       " 'each': 249,\n",
       " 'played': 250,\n",
       " 'although': 251,\n",
       " 'looking': 252,\n",
       " 'our': 253,\n",
       " 'believe': 254,\n",
       " 'screen': 255,\n",
       " 'having': 256,\n",
       " 'dvd': 257,\n",
       " 'especially': 258,\n",
       " 'trying': 259,\n",
       " 'course': 260,\n",
       " 'everything': 261,\n",
       " 'set': 262,\n",
       " 'ending': 263,\n",
       " 'put': 264,\n",
       " 'goes': 265,\n",
       " 'shows': 266,\n",
       " 'maybe': 267,\n",
       " 'place': 268,\n",
       " 'comes': 269,\n",
       " 'book': 270,\n",
       " 'worth': 271,\n",
       " 'three': 272,\n",
       " 'different': 273,\n",
       " 'main': 274,\n",
       " 'let': 275,\n",
       " 'effects': 276,\n",
       " 'actor': 277,\n",
       " 'once': 278,\n",
       " 'sense': 279,\n",
       " 'someone': 280,\n",
       " 'watched': 281,\n",
       " 'looks': 282,\n",
       " 'everyone': 283,\n",
       " 'reason': 284,\n",
       " 'american': 285,\n",
       " 'year': 286,\n",
       " 'money': 287,\n",
       " 'wasn': 288,\n",
       " 'true': 289,\n",
       " 'play': 290,\n",
       " 'together': 291,\n",
       " 'job': 292,\n",
       " 'war': 293,\n",
       " 'high': 294,\n",
       " 'special': 295,\n",
       " 'audience': 296,\n",
       " 'instead': 297,\n",
       " 'later': 298,\n",
       " 'during': 299,\n",
       " 'half': 300,\n",
       " 'takes': 301,\n",
       " 'said': 302,\n",
       " 'plays': 303,\n",
       " 'left': 304,\n",
       " 'night': 305,\n",
       " 'himself': 306,\n",
       " 'john': 307,\n",
       " 'seem': 308,\n",
       " 'seeing': 309,\n",
       " 'beautiful': 310,\n",
       " 'house': 311,\n",
       " 'excellent': 312,\n",
       " 'shot': 313,\n",
       " 'black': 314,\n",
       " 'wife': 315,\n",
       " 'version': 316,\n",
       " 'star': 317,\n",
       " 'mind': 318,\n",
       " 'idea': 319,\n",
       " 'fan': 320,\n",
       " 'death': 321,\n",
       " 'else': 322,\n",
       " 'father': 323,\n",
       " 'budget': 324,\n",
       " 'short': 325,\n",
       " 'nice': 326,\n",
       " 'used': 327,\n",
       " 'second': 328,\n",
       " 'poor': 329,\n",
       " 'simply': 330,\n",
       " 'men': 331,\n",
       " 'completely': 332,\n",
       " 'read': 333,\n",
       " 'top': 334,\n",
       " 'along': 335,\n",
       " 'home': 336,\n",
       " 'dead': 337,\n",
       " 'either': 338,\n",
       " 'less': 339,\n",
       " 'boring': 340,\n",
       " 'help': 341,\n",
       " 'friends': 342,\n",
       " 'kids': 343,\n",
       " 'line': 344,\n",
       " 'try': 345,\n",
       " 'hollywood': 346,\n",
       " 'production': 347,\n",
       " 'camera': 348,\n",
       " 'enjoy': 349,\n",
       " 'need': 350,\n",
       " 'given': 351,\n",
       " 'classic': 352,\n",
       " 'low': 353,\n",
       " 'until': 354,\n",
       " 'wrong': 355,\n",
       " 'use': 356,\n",
       " 'full': 357,\n",
       " 'performances': 358,\n",
       " 'rest': 359,\n",
       " 'next': 360,\n",
       " 'school': 361,\n",
       " 'stupid': 362,\n",
       " 'truly': 363,\n",
       " 'women': 364,\n",
       " 'couple': 365,\n",
       " 'video': 366,\n",
       " 'recommend': 367,\n",
       " 'tell': 368,\n",
       " 'awful': 369,\n",
       " 'sex': 370,\n",
       " 'start': 371,\n",
       " 'mean': 372,\n",
       " 'terrible': 373,\n",
       " 'came': 374,\n",
       " 'name': 375,\n",
       " 'won': 376,\n",
       " 'perhaps': 377,\n",
       " 'mother': 378,\n",
       " 'understand': 379,\n",
       " 'moments': 380,\n",
       " 'person': 381,\n",
       " 'wonderful': 382,\n",
       " 'episode': 383,\n",
       " 'remember': 384,\n",
       " 'getting': 385,\n",
       " 'human': 386,\n",
       " 'keep': 387,\n",
       " 'itself': 388,\n",
       " 'face': 389,\n",
       " 'style': 390,\n",
       " 'small': 391,\n",
       " 'others': 392,\n",
       " 'early': 393,\n",
       " 'stars': 394,\n",
       " 'head': 395,\n",
       " 'boy': 396,\n",
       " 'written': 397,\n",
       " 'playing': 398,\n",
       " 'definitely': 399,\n",
       " 'perfect': 400,\n",
       " 'doing': 401,\n",
       " 'often': 402,\n",
       " 'gives': 403,\n",
       " 'children': 404,\n",
       " 'dialogue': 405,\n",
       " 'lines': 406,\n",
       " 'case': 407,\n",
       " 'couldn': 408,\n",
       " 'finally': 409,\n",
       " 'piece': 410,\n",
       " 'oh': 411,\n",
       " 'title': 412,\n",
       " 'friend': 413,\n",
       " 'live': 414,\n",
       " 'went': 415,\n",
       " 'certainly': 416,\n",
       " 'laugh': 417,\n",
       " 'liked': 418,\n",
       " 'absolutely': 419,\n",
       " 'sort': 420,\n",
       " 'yes': 421,\n",
       " 'loved': 422,\n",
       " 'hope': 423,\n",
       " 'lost': 424,\n",
       " 'worse': 425,\n",
       " 'entertaining': 426,\n",
       " 'cinema': 427,\n",
       " 'become': 428,\n",
       " 'based': 429,\n",
       " 'several': 430,\n",
       " 'sound': 431,\n",
       " 'picture': 432,\n",
       " 'called': 433,\n",
       " 'supposed': 434,\n",
       " 'entire': 435,\n",
       " 'mr': 436,\n",
       " 'guys': 437,\n",
       " 'problem': 438,\n",
       " 'felt': 439,\n",
       " 'overall': 440,\n",
       " 'd': 441,\n",
       " 'drama': 442,\n",
       " 'totally': 443,\n",
       " 'waste': 444,\n",
       " 'white': 445,\n",
       " 'game': 446,\n",
       " 'beginning': 447,\n",
       " 'dark': 448,\n",
       " 'care': 449,\n",
       " 'against': 450,\n",
       " 'direction': 451,\n",
       " 'under': 452,\n",
       " 'humor': 453,\n",
       " 'wanted': 454,\n",
       " 'seemed': 455,\n",
       " 'fans': 456,\n",
       " 'turn': 457,\n",
       " 'lives': 458,\n",
       " 'evil': 459,\n",
       " 'lead': 460,\n",
       " 'already': 461,\n",
       " 'despite': 462,\n",
       " 'example': 463,\n",
       " 'final': 464,\n",
       " 'throughout': 465,\n",
       " 'quality': 466,\n",
       " 'killer': 467,\n",
       " 'becomes': 468,\n",
       " 'son': 469,\n",
       " 'guess': 470,\n",
       " 'days': 471,\n",
       " 'unfortunately': 472,\n",
       " 'history': 473,\n",
       " 'able': 474,\n",
       " 'heart': 475,\n",
       " 'fine': 476,\n",
       " 'writing': 477,\n",
       " 'side': 478,\n",
       " 'michael': 479,\n",
       " 'flick': 480,\n",
       " 'wants': 481,\n",
       " 'horrible': 482,\n",
       " 'kill': 483,\n",
       " 'art': 484,\n",
       " 'run': 485,\n",
       " 'matter': 486,\n",
       " 'today': 487,\n",
       " 'amazing': 488,\n",
       " 'act': 489,\n",
       " 'close': 490,\n",
       " 'etc': 491,\n",
       " 'enjoyed': 492,\n",
       " 'town': 493,\n",
       " 'works': 494,\n",
       " 'child': 495,\n",
       " 'viewer': 496,\n",
       " 'behind': 497,\n",
       " 'tries': 498,\n",
       " 'kid': 499,\n",
       " 'god': 500,\n",
       " 'past': 501,\n",
       " 'eyes': 502,\n",
       " 'genre': 503,\n",
       " 'brilliant': 504,\n",
       " 'gave': 505,\n",
       " 'girls': 506,\n",
       " 'directed': 507,\n",
       " 'expect': 508,\n",
       " 'turns': 509,\n",
       " 'hand': 510,\n",
       " 'themselves': 511,\n",
       " 'car': 512,\n",
       " 'city': 513,\n",
       " 'favorite': 514,\n",
       " 'parts': 515,\n",
       " 'late': 516,\n",
       " 'hour': 517,\n",
       " 'actress': 518,\n",
       " 'killed': 519,\n",
       " 'stuff': 520,\n",
       " 'soon': 521,\n",
       " 'obviously': 522,\n",
       " 'group': 523,\n",
       " 'myself': 524,\n",
       " 'decent': 525,\n",
       " 'says': 526,\n",
       " 'thinking': 527,\n",
       " 'highly': 528,\n",
       " 'stop': 529,\n",
       " 'daughter': 530,\n",
       " 'starts': 531,\n",
       " 'sometimes': 532,\n",
       " 'heard': 533,\n",
       " 'anyway': 534,\n",
       " 'type': 535,\n",
       " 'self': 536,\n",
       " 'blood': 537,\n",
       " 'known': 538,\n",
       " 'writer': 539,\n",
       " 'happens': 540,\n",
       " 'except': 541,\n",
       " 'voice': 542,\n",
       " 'took': 543,\n",
       " 'fight': 544,\n",
       " 'leave': 545,\n",
       " 'feeling': 546,\n",
       " 'experience': 547,\n",
       " 'slow': 548,\n",
       " 'told': 549,\n",
       " 'coming': 550,\n",
       " 'score': 551,\n",
       " 'strong': 552,\n",
       " 'ok': 553,\n",
       " 'including': 554,\n",
       " 'happen': 555,\n",
       " 'stories': 556,\n",
       " 'moment': 557,\n",
       " 'extremely': 558,\n",
       " 'age': 559,\n",
       " 'police': 560,\n",
       " 'violence': 561,\n",
       " 'brother': 562,\n",
       " 'wonder': 563,\n",
       " 'lack': 564,\n",
       " 'involved': 565,\n",
       " 'cannot': 566,\n",
       " 'wouldn': 567,\n",
       " 'crap': 568,\n",
       " 'hell': 569,\n",
       " 'obvious': 570,\n",
       " 'living': 571,\n",
       " 'hero': 572,\n",
       " 'save': 573,\n",
       " 'particularly': 574,\n",
       " 'looked': 575,\n",
       " 'cut': 576,\n",
       " 'song': 577,\n",
       " 'murder': 578,\n",
       " 'cool': 579,\n",
       " 'chance': 580,\n",
       " 'please': 581,\n",
       " 'shown': 582,\n",
       " 'complete': 583,\n",
       " 'gore': 584,\n",
       " 'attempt': 585,\n",
       " 'happened': 586,\n",
       " 'simple': 587,\n",
       " 'ago': 588,\n",
       " 'roles': 589,\n",
       " 'david': 590,\n",
       " 'hit': 591,\n",
       " 'hilarious': 592,\n",
       " 'husband': 593,\n",
       " 'james': 594,\n",
       " 'english': 595,\n",
       " 'taken': 596,\n",
       " 'released': 597,\n",
       " 'serious': 598,\n",
       " 'interest': 599,\n",
       " 'robert': 600,\n",
       " 'opening': 601,\n",
       " 'hours': 602,\n",
       " 'jokes': 603,\n",
       " 'possible': 604,\n",
       " 'number': 605,\n",
       " 'seriously': 606,\n",
       " 'talent': 607,\n",
       " 'across': 608,\n",
       " 'usually': 609,\n",
       " 'none': 610,\n",
       " 'cinematography': 611,\n",
       " 'yourself': 612,\n",
       " 'order': 613,\n",
       " 'alone': 614,\n",
       " 'view': 615,\n",
       " 'reality': 616,\n",
       " 'career': 617,\n",
       " 'saying': 618,\n",
       " 'documentary': 619,\n",
       " 'light': 620,\n",
       " 'sad': 621,\n",
       " 'exactly': 622,\n",
       " 'huge': 623,\n",
       " 'running': 624,\n",
       " 'relationship': 625,\n",
       " 'annoying': 626,\n",
       " 'scary': 627,\n",
       " 'whose': 628,\n",
       " 'wish': 629,\n",
       " 'started': 630,\n",
       " 'taking': 631,\n",
       " 'ridiculous': 632,\n",
       " 'country': 633,\n",
       " 'shots': 634,\n",
       " 'body': 635,\n",
       " 'power': 636,\n",
       " 'middle': 637,\n",
       " 'female': 638,\n",
       " 'ends': 639,\n",
       " 'important': 640,\n",
       " 'word': 641,\n",
       " 'four': 642,\n",
       " 'turned': 643,\n",
       " 'change': 644,\n",
       " 'major': 645,\n",
       " 'rating': 646,\n",
       " 'call': 647,\n",
       " 'jack': 648,\n",
       " 'beyond': 649,\n",
       " 'opinion': 650,\n",
       " 'level': 651,\n",
       " 'ones': 652,\n",
       " 'somewhat': 653,\n",
       " 'silly': 654,\n",
       " 'talking': 655,\n",
       " 'happy': 656,\n",
       " 'room': 657,\n",
       " 'strange': 658,\n",
       " 'novel': 659,\n",
       " 'upon': 660,\n",
       " 'words': 661,\n",
       " 'usual': 662,\n",
       " 'knew': 663,\n",
       " 'mostly': 664,\n",
       " 'disappointed': 665,\n",
       " 'episodes': 666,\n",
       " 'modern': 667,\n",
       " 'apparently': 668,\n",
       " 'clich': 669,\n",
       " 'single': 670,\n",
       " 'basically': 671,\n",
       " 'attention': 672,\n",
       " 'problems': 673,\n",
       " 'miss': 674,\n",
       " 'knows': 675,\n",
       " 'due': 676,\n",
       " 'finds': 677,\n",
       " 'musical': 678,\n",
       " 'non': 679,\n",
       " 'british': 680,\n",
       " 'thriller': 681,\n",
       " 'class': 682,\n",
       " 'television': 683,\n",
       " 'five': 684,\n",
       " 'cheap': 685,\n",
       " 'earth': 686,\n",
       " 'clearly': 687,\n",
       " 'aren': 688,\n",
       " 'talk': 689,\n",
       " 'king': 690,\n",
       " 'events': 691,\n",
       " 'add': 692,\n",
       " 'team': 693,\n",
       " 'fast': 694,\n",
       " 'moving': 695,\n",
       " 'space': 696,\n",
       " 'local': 697,\n",
       " 'review': 698,\n",
       " 'ten': 699,\n",
       " 'predictable': 700,\n",
       " 'straight': 701,\n",
       " 'sequence': 702,\n",
       " 'songs': 703,\n",
       " 'tells': 704,\n",
       " 'dialog': 705,\n",
       " 'entertainment': 706,\n",
       " 'die': 707,\n",
       " 'future': 708,\n",
       " 'appears': 709,\n",
       " 'whether': 710,\n",
       " 'soundtrack': 711,\n",
       " 'enjoyable': 712,\n",
       " 'above': 713,\n",
       " 'easily': 714,\n",
       " 'supporting': 715,\n",
       " 'sets': 716,\n",
       " 'sister': 717,\n",
       " 'french': 718,\n",
       " 'near': 719,\n",
       " 'haven': 720,\n",
       " 'hate': 721,\n",
       " 'giving': 722,\n",
       " 'lots': 723,\n",
       " 'falls': 724,\n",
       " 'within': 725,\n",
       " 'tried': 726,\n",
       " 'sequel': 727,\n",
       " 'george': 728,\n",
       " 'dull': 729,\n",
       " 'suspense': 730,\n",
       " 'similar': 731,\n",
       " 'release': 732,\n",
       " 'filmed': 733,\n",
       " 'romantic': 734,\n",
       " 'eye': 735,\n",
       " 'mention': 736,\n",
       " 'subject': 737,\n",
       " 'rock': 738,\n",
       " 'comic': 739,\n",
       " 'bring': 740,\n",
       " 'needs': 741,\n",
       " 'clear': 742,\n",
       " 'message': 743,\n",
       " 'working': 744,\n",
       " 'theme': 745,\n",
       " 'bunch': 746,\n",
       " 'easy': 747,\n",
       " 'parents': 748,\n",
       " 'surprised': 749,\n",
       " 'certain': 750,\n",
       " 'showing': 751,\n",
       " 'ways': 752,\n",
       " 'storyline': 753,\n",
       " 'stay': 754,\n",
       " 'tale': 755,\n",
       " 'th': 756,\n",
       " 'sorry': 757,\n",
       " 'effort': 758,\n",
       " 'theater': 759,\n",
       " 'monster': 760,\n",
       " 'among': 761,\n",
       " 'named': 762,\n",
       " 'stand': 763,\n",
       " 'feature': 764,\n",
       " 'lady': 765,\n",
       " 'realistic': 766,\n",
       " 's': 767,\n",
       " 'fall': 768,\n",
       " 'crime': 769,\n",
       " 'using': 770,\n",
       " 'editing': 771,\n",
       " 'minute': 772,\n",
       " 'herself': 773,\n",
       " 'comments': 774,\n",
       " 'typical': 775,\n",
       " 'deal': 776,\n",
       " 'elements': 777,\n",
       " 'avoid': 778,\n",
       " 'nearly': 779,\n",
       " 'buy': 780,\n",
       " 'dr': 781,\n",
       " 'general': 782,\n",
       " 'famous': 783,\n",
       " 'greatest': 784,\n",
       " 'feels': 785,\n",
       " 'kept': 786,\n",
       " 'doubt': 787,\n",
       " 'richard': 788,\n",
       " 'points': 789,\n",
       " 'means': 790,\n",
       " 'gone': 791,\n",
       " 'mystery': 792,\n",
       " 'check': 793,\n",
       " 'oscar': 794,\n",
       " 'viewers': 795,\n",
       " 'follow': 796,\n",
       " 'okay': 797,\n",
       " 'brought': 798,\n",
       " 'rent': 799,\n",
       " 'doctor': 800,\n",
       " 'actual': 801,\n",
       " 'dog': 802,\n",
       " 'peter': 803,\n",
       " 'reviews': 804,\n",
       " 'viewing': 805,\n",
       " 'red': 806,\n",
       " 'material': 807,\n",
       " 'fantastic': 808,\n",
       " 'imagine': 809,\n",
       " 'learn': 810,\n",
       " 'period': 811,\n",
       " 'move': 812,\n",
       " 'form': 813,\n",
       " 'begins': 814,\n",
       " 'weak': 815,\n",
       " 'believable': 816,\n",
       " 'imdb': 817,\n",
       " 'somehow': 818,\n",
       " 'paul': 819,\n",
       " 'tom': 820,\n",
       " 'animation': 821,\n",
       " 'fi': 822,\n",
       " 'deep': 823,\n",
       " 'leads': 824,\n",
       " 'forget': 825,\n",
       " 'figure': 826,\n",
       " 'sequences': 827,\n",
       " 'open': 828,\n",
       " 'sci': 829,\n",
       " 'hear': 830,\n",
       " 'america': 831,\n",
       " 'particular': 832,\n",
       " 'atmosphere': 833,\n",
       " 'average': 834,\n",
       " 'sit': 835,\n",
       " 'surprise': 836,\n",
       " 'boys': 837,\n",
       " 'killing': 838,\n",
       " 'whatever': 839,\n",
       " 'premise': 840,\n",
       " 'shame': 841,\n",
       " 'poorly': 842,\n",
       " 'york': 843,\n",
       " 'box': 844,\n",
       " 'lame': 845,\n",
       " 'wait': 846,\n",
       " 'truth': 847,\n",
       " 'dance': 848,\n",
       " 'season': 849,\n",
       " 'crew': 850,\n",
       " 'decided': 851,\n",
       " 'eventually': 852,\n",
       " 'expected': 853,\n",
       " 'indeed': 854,\n",
       " 'acted': 855,\n",
       " 'free': 856,\n",
       " 'note': 857,\n",
       " 'lee': 858,\n",
       " 'hot': 859,\n",
       " 'western': 860,\n",
       " 'society': 861,\n",
       " 'emotional': 862,\n",
       " 'forced': 863,\n",
       " 'situation': 864,\n",
       " 'credits': 865,\n",
       " 'third': 866,\n",
       " 'romance': 867,\n",
       " 'memorable': 868,\n",
       " 'male': 869,\n",
       " 'gay': 870,\n",
       " 'needed': 871,\n",
       " 'difficult': 872,\n",
       " 'nature': 873,\n",
       " 'sexual': 874,\n",
       " 'cheesy': 875,\n",
       " 'plus': 876,\n",
       " 'write': 877,\n",
       " 'reading': 878,\n",
       " 'unless': 879,\n",
       " 'leaves': 880,\n",
       " 'superb': 881,\n",
       " 'became': 882,\n",
       " 'question': 883,\n",
       " 'begin': 884,\n",
       " 'footage': 885,\n",
       " 'hands': 886,\n",
       " 'air': 887,\n",
       " 'possibly': 888,\n",
       " 'meets': 889,\n",
       " 'otherwise': 890,\n",
       " 'interested': 891,\n",
       " 'badly': 892,\n",
       " 'forward': 893,\n",
       " 'beauty': 894,\n",
       " 'earlier': 895,\n",
       " 'de': 896,\n",
       " 'laughs': 897,\n",
       " 'street': 898,\n",
       " 'effect': 899,\n",
       " 'masterpiece': 900,\n",
       " 'screenplay': 901,\n",
       " 'meet': 902,\n",
       " 'setting': 903,\n",
       " 'quickly': 904,\n",
       " 'water': 905,\n",
       " 'features': 906,\n",
       " 'inside': 907,\n",
       " 'stage': 908,\n",
       " 'mark': 909,\n",
       " 'weird': 910,\n",
       " 'incredibly': 911,\n",
       " 'background': 912,\n",
       " 'towards': 913,\n",
       " 'comment': 914,\n",
       " 'japanese': 915,\n",
       " 'girlfriend': 916,\n",
       " 'sounds': 917,\n",
       " 'nor': 918,\n",
       " 'dumb': 919,\n",
       " 'whom': 920,\n",
       " 'copy': 921,\n",
       " 'battle': 922,\n",
       " 'personal': 923,\n",
       " 'result': 924,\n",
       " 'baby': 925,\n",
       " 'following': 926,\n",
       " 'joe': 927,\n",
       " 'cop': 928,\n",
       " 'island': 929,\n",
       " 'unique': 930,\n",
       " 'powerful': 931,\n",
       " 'writers': 932,\n",
       " 'previous': 933,\n",
       " 'keeps': 934,\n",
       " 'directing': 935,\n",
       " 'fire': 936,\n",
       " 'development': 937,\n",
       " 'perfectly': 938,\n",
       " 'disney': 939,\n",
       " 'rate': 940,\n",
       " 'total': 941,\n",
       " 'realize': 942,\n",
       " 'joke': 943,\n",
       " 'ask': 944,\n",
       " 'dream': 945,\n",
       " 'worked': 946,\n",
       " 'bill': 947,\n",
       " 'older': 948,\n",
       " 'appear': 949,\n",
       " 'business': 950,\n",
       " 'mess': 951,\n",
       " 'gun': 952,\n",
       " 'portrayed': 953,\n",
       " 'front': 954,\n",
       " 'cover': 955,\n",
       " 'various': 956,\n",
       " 'creepy': 957,\n",
       " 'present': 958,\n",
       " 'plenty': 959,\n",
       " 'directors': 960,\n",
       " 'crazy': 961,\n",
       " 'outside': 962,\n",
       " 'spent': 963,\n",
       " 'reasons': 964,\n",
       " 'dramatic': 965,\n",
       " 'brings': 966,\n",
       " 'admit': 967,\n",
       " 'pay': 968,\n",
       " 'party': 969,\n",
       " 'telling': 970,\n",
       " 'deserves': 971,\n",
       " 'secret': 972,\n",
       " 'fairly': 973,\n",
       " 'break': 974,\n",
       " 'apart': 975,\n",
       " 'political': 976,\n",
       " 'meant': 977,\n",
       " 'wasted': 978,\n",
       " 'zombie': 979,\n",
       " 'create': 980,\n",
       " 'agree': 981,\n",
       " 'era': 982,\n",
       " 'list': 983,\n",
       " 'fails': 984,\n",
       " 'odd': 985,\n",
       " 'expecting': 986,\n",
       " 'attempts': 987,\n",
       " 'rich': 988,\n",
       " 'twist': 989,\n",
       " 'missing': 990,\n",
       " 'leading': 991,\n",
       " 'manages': 992,\n",
       " 'william': 993,\n",
       " 'caught': 994,\n",
       " 'ideas': 995,\n",
       " 'produced': 996,\n",
       " 'potential': 997,\n",
       " 'talented': 998,\n",
       " 'villain': 999,\n",
       " 'hardly': 1000,\n",
       " ...}"
      ]
     },
     "execution_count": 11,
     "metadata": {},
     "output_type": "execute_result"
    }
   ],
   "source": [
    "tokenizer = Tokenizer(num_words=5000)\n",
    "tokenizer.fit_on_texts(X_train)\n",
    "X_train = tokenizer.texts_to_sequences(X_train)\n",
    "X_test = tokenizer.texts_to_sequences(X_test)\n",
    "\n",
    "tokenizer.word_index"
   ]
  },
  {
   "cell_type": "code",
   "execution_count": null,
   "metadata": {
    "id": "1EFNRTfgYrrO"
   },
   "outputs": [],
   "source": [
    "# Adding 1 because of reserved 0 index\n",
    "vocab_size = len(tokenizer.word_index) + 1\n",
    "maxlen = 100\n",
    "X_train = pad_sequences(X_train, padding='post', maxlen=maxlen)\n",
    "X_test = pad_sequences(X_test, padding='post', maxlen=maxlen)"
   ]
  },
  {
   "cell_type": "code",
   "execution_count": 18,
   "metadata": {
    "colab": {
     "base_uri": "https://localhost:8080/"
    },
    "id": "T4EtQwXDYuAD",
    "outputId": "734f2c49-257e-4ab0-b816-6e81a5758457"
   },
   "outputs": [
    {
     "name": "stdout",
     "output_type": "stream",
     "text": [
      "Archive:  /content/glove.6B.100d.txt.zip\n",
      "  inflating: /content/glove.6B.100d.txt  \n"
     ]
    }
   ],
   "source": [
    "!unzip \"/content/glove.6B.100d.txt.zip\" -d \"/content/\""
   ]
  },
  {
   "cell_type": "code",
   "execution_count": 19,
   "metadata": {
    "id": "2Rc-uYwgYxzu"
   },
   "outputs": [],
   "source": [
    "from numpy import array\n",
    "from numpy import asarray\n",
    "from numpy import zeros\n",
    "embeddings_dictionary = dict()\n",
    "glove_file = open(\"glove.6B.100d.txt\", encoding=\"utf8\")\n",
    "for line in glove_file:\n",
    "  records = line.split()\n",
    "  word = records[0]\n",
    "  vector_dimensions = asarray(records[1:],dtype='float32')\n",
    "  embeddings_dictionary [word] = vector_dimensions\n",
    "glove_file.close()"
   ]
  },
  {
   "cell_type": "code",
   "execution_count": 20,
   "metadata": {
    "id": "VXy5cxqxYywc"
   },
   "outputs": [],
   "source": [
    "embedding_matrix = zeros((vocab_size, 100))\n",
    "for word, index in tokenizer.word_index.items():\n",
    "    embedding_vector = embeddings_dictionary.get(word)\n",
    "    if embedding_vector is not None:\n",
    "        embedding_matrix[index] = embedding_vector"
   ]
  },
  {
   "cell_type": "markdown",
   "metadata": {},
   "source": [
    "### A. Classification avec un simple réseau de neurones"
   ]
  },
  {
   "cell_type": "code",
   "execution_count": 21,
   "metadata": {
    "id": "0u0Qf0_TY1N1"
   },
   "outputs": [],
   "source": [
    "from keras.layers import MaxPooling1D\n",
    "from numpy import array\n",
    "from numpy import asarray\n",
    "from numpy import zeros"
   ]
  },
  {
   "cell_type": "code",
   "execution_count": 22,
   "metadata": {
    "id": "WTRIIH5xY3V3"
   },
   "outputs": [],
   "source": [
    "model=Sequential()\n",
    "model.add(Embedding(input_dim=vocab_size, output_dim=100, weights=[embedding_matrix], input_length=maxlen, trainable=False))\n",
    "model.add(Flatten())\n",
    "model.add(Dense(units=1, activation='sigmoid'))\n",
    "\n",
    "model.compile(loss='binary_crossentropy', optimizer='adam', metrics=['accuracy'])"
   ]
  },
  {
   "cell_type": "code",
   "execution_count": 23,
   "metadata": {
    "colab": {
     "base_uri": "https://localhost:8080/"
    },
    "id": "6gQ1_YhYY5TE",
    "outputId": "caed7e1b-4dd3-42f6-e4ba-012458247628"
   },
   "outputs": [
    {
     "name": "stdout",
     "output_type": "stream",
     "text": [
      "Epoch 1/6\n",
      "250/250 [==============================] - 2s 6ms/step - loss: 0.6071 - accuracy: 0.6669 - val_loss: 0.5400 - val_accuracy: 0.7246\n",
      "Epoch 2/6\n",
      "250/250 [==============================] - 2s 8ms/step - loss: 0.5023 - accuracy: 0.7572 - val_loss: 0.5579 - val_accuracy: 0.7151\n",
      "Epoch 3/6\n",
      "250/250 [==============================] - 2s 8ms/step - loss: 0.4604 - accuracy: 0.7846 - val_loss: 0.5239 - val_accuracy: 0.7401\n",
      "Epoch 4/6\n",
      "250/250 [==============================] - 2s 7ms/step - loss: 0.4441 - accuracy: 0.7912 - val_loss: 0.5325 - val_accuracy: 0.7371\n",
      "Epoch 5/6\n",
      "250/250 [==============================] - 1s 5ms/step - loss: 0.4210 - accuracy: 0.8084 - val_loss: 0.5273 - val_accuracy: 0.7452\n",
      "Epoch 6/6\n",
      "250/250 [==============================] - 1s 4ms/step - loss: 0.4102 - accuracy: 0.8151 - val_loss: 0.5376 - val_accuracy: 0.7418\n"
     ]
    }
   ],
   "source": [
    "history = model.fit(X_train, y_train, epochs=6, batch_size=128, verbose=1, validation_split=0.2)"
   ]
  },
  {
   "cell_type": "code",
   "execution_count": 24,
   "metadata": {
    "colab": {
     "base_uri": "https://localhost:8080/"
    },
    "id": "7erw_eQuY7hH",
    "outputId": "13ec39ed-8da9-449c-f4a3-ca00eb5c34be"
   },
   "outputs": [
    {
     "name": "stdout",
     "output_type": "stream",
     "text": [
      "313/313 [==============================] - 1s 2ms/step - loss: 0.5355 - accuracy: 0.7411\n",
      "Test Score: 0.535474956035614\n",
      "Test Accuracy: 0.741100013256073\n"
     ]
    }
   ],
   "source": [
    "score = model.evaluate(X_test, y_test, verbose=1)\n",
    "print(\"Test Score:\", score[0])\n",
    "print(\"Test Accuracy:\", score[1])"
   ]
  },
  {
   "cell_type": "code",
   "execution_count": 25,
   "metadata": {
    "colab": {
     "base_uri": "https://localhost:8080/",
     "height": 944
    },
    "id": "GoptEzPbY9eY",
    "outputId": "2bc1559d-423c-4ec6-cbb0-35e0b1b0463a"
   },
   "outputs": [
    {
     "data": {
      "image/png": "[encoded data removed]",
      "text/plain": [
       "<Figure size 640x480 with 1 Axes>"
      ]
     },
     "metadata": {},
     "output_type": "display_data"
    },
    {
     "data": {
      "text/plain": [
       "<matplotlib.legend.Legend at 0x7e0768da5ab0>"
      ]
     },
     "execution_count": 25,
     "metadata": {},
     "output_type": "execute_result"
    },
    {
     "data": {
      "image/png": "[encoded data removed]",
      "text/plain": [
       "<Figure size 640x480 with 1 Axes>"
      ]
     },
     "metadata": {},
     "output_type": "display_data"
    }
   ],
   "source": [
    "plt.plot(history.history['accuracy'])\n",
    "plt.plot(history.history['val_accuracy'])\n",
    "plt.title('model accuracy')\n",
    "plt.ylabel('accuracy')\n",
    "plt.xlabel('epoch')\n",
    "plt.legend(['train','test'], loc='upper left')\n",
    "plt.show()\n",
    "plt.plot(history.history['loss'])\n",
    "plt.plot(history.history['val_loss'])\n",
    "plt.title('model loss')\n",
    "plt.ylabel('loss')\n",
    "plt.xlabel('epoch')\n",
    "plt.legend(['train','test'], loc='upper left')"
   ]
  },
  {
   "cell_type": "markdown",
   "metadata": {},
   "source": [
    "#### On remarque que :\n",
    "##### -La Courbe d'Accuracy: Montre que l'accuracy sur le jeu d'entraînement continue d'augmenter, tandis que l'accuracy sur le jeu de validation plafonne. Cela indique que le modèle pourrait être en train de surapprendre les données d'entraînement.\n",
    "##### -La Courbe de Loss: Le loss sur l'entraînement diminue, tandis que le loss sur la validation montre une tendance à la stagnation ou à l'augmentation après un certain point. Ceci est une autre indication de surapprentissage.\n",
    "#### Observations et Interprétations\n",
    "Surapprentissage (Overfitting): Le modèle semble bien apprendre les détails des données d'entraînement mais échoue à généraliser ces apprentissages aux données de validation après certains epochs. Cela est indiqué par la divergence entre les courbes d'entraînement et de validation pour l'accuracy et le loss.\n",
    "Améliorations Possibles: Pour contrer le surapprentissage, vous pourriez expérimenter avec des techniques comme l'augmentation des données, l'ajout de couches de Dropout, ou l'ajustement des paramètres de la couche d'Embedding pour les rendre entraînables."
   ]
  },
  {
   "cell_type": "markdown",
   "metadata": {},
   "source": [
    "### B. Classification avec un réseau de neurones convolutionnel"
   ]
  },
  {
   "cell_type": "code",
   "execution_count": 26,
   "metadata": {
    "id": "WpGLfSLhY_ph"
   },
   "outputs": [],
   "source": [
    "model = Sequential()\n",
    "model.add(Embedding(input_dim=vocab_size, output_dim=100, weights=[embedding_matrix], input_length=maxlen, trainable=False))\n",
    "model.add(Conv1D(filters=128, kernel_size=5, activation='relu'))\n",
    "model.add(GlobalMaxPooling1D())\n",
    "model.add(Dense(units=1, activation='sigmoid'))\n",
    "\n",
    "model.compile(loss='binary_crossentropy', optimizer='adam', metrics=['accuracy'])"
   ]
  },
  {
   "cell_type": "code",
   "execution_count": 27,
   "metadata": {
    "colab": {
     "base_uri": "https://localhost:8080/"
    },
    "id": "3jZSaASkZCLH",
    "outputId": "dd662f12-0885-488b-f504-156e302778cf"
   },
   "outputs": [
    {
     "name": "stdout",
     "output_type": "stream",
     "text": [
      "Epoch 1/6\n",
      "250/250 [==============================] - 29s 114ms/step - loss: 0.5288 - accuracy: 0.7366 - val_loss: 0.4254 - val_accuracy: 0.8021\n",
      "Epoch 2/6\n",
      "250/250 [==============================] - 34s 134ms/step - loss: 0.3768 - accuracy: 0.8334 - val_loss: 0.3733 - val_accuracy: 0.8334\n",
      "Epoch 3/6\n",
      "250/250 [==============================] - 36s 146ms/step - loss: 0.3255 - accuracy: 0.8615 - val_loss: 0.3509 - val_accuracy: 0.8419\n",
      "Epoch 4/6\n",
      "250/250 [==============================] - 26s 106ms/step - loss: 0.2886 - accuracy: 0.8806 - val_loss: 0.3555 - val_accuracy: 0.8378\n",
      "Epoch 5/6\n",
      "250/250 [==============================] - 25s 101ms/step - loss: 0.2500 - accuracy: 0.9028 - val_loss: 0.3635 - val_accuracy: 0.8382\n",
      "Epoch 6/6\n",
      "250/250 [==============================] - 32s 130ms/step - loss: 0.2212 - accuracy: 0.9177 - val_loss: 0.3401 - val_accuracy: 0.8500\n"
     ]
    }
   ],
   "source": [
    "history = model.fit(X_train, y_train, epochs=6, batch_size=128, verbose=1, validation_split=0.2)"
   ]
  },
  {
   "cell_type": "code",
   "execution_count": 28,
   "metadata": {
    "colab": {
     "base_uri": "https://localhost:8080/"
    },
    "id": "X8OrtIMkZECK",
    "outputId": "379306e7-e4f2-43e6-c33c-f3eb21863add"
   },
   "outputs": [
    {
     "name": "stdout",
     "output_type": "stream",
     "text": [
      "313/313 [==============================] - 5s 16ms/step - loss: 0.3358 - accuracy: 0.8525\n",
      "Test Score: 0.3357803225517273\n",
      "Test Accuracy: 0.8525000214576721\n"
     ]
    }
   ],
   "source": [
    "score = model.evaluate(X_test, y_test, verbose=1)\n",
    "print(\"Test Score:\", score[0])\n",
    "print(\"Test Accuracy:\", score[1])"
   ]
  },
  {
   "cell_type": "code",
   "execution_count": 29,
   "metadata": {
    "colab": {
     "base_uri": "https://localhost:8080/",
     "height": 944
    },
    "id": "8C8aIE9AZGH5",
    "outputId": "ddc3236c-36f1-47bc-ace5-ffafa27c982f",
    "scrolled": true
   },
   "outputs": [
    {
     "data": {
      "image/png": "[encoded data removed]",
      "text/plain": [
       "<Figure size 640x480 with 1 Axes>"
      ]
     },
     "metadata": {},
     "output_type": "display_data"
    },
    {
     "data": {
      "text/plain": [
       "<matplotlib.legend.Legend at 0x7e0768cf0cd0>"
      ]
     },
     "execution_count": 29,
     "metadata": {},
     "output_type": "execute_result"
    },
    {
     "data": {
      "image/png": "[encoded data removed]",
      "text/plain": [
       "<Figure size 640x480 with 1 Axes>"
      ]
     },
     "metadata": {},
     "output_type": "display_data"
    }
   ],
   "source": [
    "plt.plot(history.history['accuracy'])\n",
    "plt.plot(history.history['val_accuracy'])\n",
    "plt.title('model accuracy')\n",
    "plt.ylabel('accuracy')\n",
    "plt.xlabel('epoch')\n",
    "plt.legend(['train','test'], loc='upper left')\n",
    "plt.show()\n",
    "plt.plot(history.history['loss'])\n",
    "plt.plot(history.history['val_loss'])\n",
    "plt.title('model loss')\n",
    "plt.ylabel('loss')\n",
    "plt.xlabel('epoch')\n",
    "plt.legend(['train','test'], loc='upper left')"
   ]
  },
  {
   "cell_type": "markdown",
   "metadata": {},
   "source": [
    "#### Résultats d'Entraînement\n",
    "Les graphiques montrent :\n",
    "\n",
    "Accuracy : L'accuracy de l'entraînement augmente continuellement, atteignant près de 92.5% après 5 epochs. Cependant, l'accuracy du test stagne autour de 82.5% après une légère augmentation initiale.\n",
    "Loss : Le loss de l'entraînement diminue de manière significative, indiquant un bon apprentissage sur les données d'entraînement. Le loss du test, après une diminution initiale, montre des signes de stabilisation ou de légère augmentation.\n",
    "Interprétation\n",
    "Surapprentissage : Bien que le modèle montre une excellente performance sur les données d'entraînement, l'augmentation significative entre l'accuracy de l'entraînement et celle du test, ainsi que les tendances du loss, suggèrent un surapprentissage. Le modèle se spécialise trop sur les données d'entraînement sans pouvoir généraliser efficacement sur de nouvelles données.\n",
    "Améliorations possibles : Pour améliorer la généralisation, envisager d'introduire des techniques de régularisation comme le Dropout ou l'augmentation des données. Alternativement, ajuster les paramètres du modèle, comme réduire le nombre de filtres ou la taille du kernel dans la couche Conv1D, pourrait également aider à réduire le surapprentissage."
   ]
  },
  {
   "cell_type": "markdown",
   "metadata": {},
   "source": [
    "### C. Classification avec un réseau de neurones récurrent (LSTM)"
   ]
  },
  {
   "cell_type": "code",
   "execution_count": 30,
   "metadata": {
    "id": "BaUkxcVUZIIJ"
   },
   "outputs": [],
   "source": [
    "model = Sequential()\n",
    "model.add(Embedding(input_dim=vocab_size, output_dim=100, weights=[embedding_matrix], input_length=maxlen, trainable=False))\n",
    "model.add(LSTM(units=128))\n",
    "model.add(Dense(units=1, activation='sigmoid'))\n",
    "\n",
    "model.compile(loss='binary_crossentropy', optimizer='adam', metrics=['accuracy'])"
   ]
  },
  {
   "cell_type": "code",
   "execution_count": 31,
   "metadata": {
    "colab": {
     "base_uri": "https://localhost:8080/"
    },
    "id": "DIvT0SD4ZMhh",
    "outputId": "f5f6e7a6-3750-4edc-fc2e-89061d244289"
   },
   "outputs": [
    {
     "name": "stdout",
     "output_type": "stream",
     "text": [
      "Epoch 1/6\n",
      "250/250 [==============================] - 95s 373ms/step - loss: 0.5467 - accuracy: 0.7167 - val_loss: 0.4772 - val_accuracy: 0.7788\n",
      "Epoch 2/6\n",
      "250/250 [==============================] - 91s 365ms/step - loss: 0.4543 - accuracy: 0.7865 - val_loss: 0.4168 - val_accuracy: 0.8167\n",
      "Epoch 3/6\n",
      "250/250 [==============================] - 90s 361ms/step - loss: 0.3986 - accuracy: 0.8181 - val_loss: 0.3822 - val_accuracy: 0.8246\n",
      "Epoch 4/6\n",
      "250/250 [==============================] - 101s 404ms/step - loss: 0.3693 - accuracy: 0.8345 - val_loss: 0.3606 - val_accuracy: 0.8399\n",
      "Epoch 5/6\n",
      "250/250 [==============================] - 99s 395ms/step - loss: 0.3401 - accuracy: 0.8497 - val_loss: 0.3466 - val_accuracy: 0.8472\n",
      "Epoch 6/6\n",
      "250/250 [==============================] - 90s 361ms/step - loss: 0.3235 - accuracy: 0.8575 - val_loss: 0.3357 - val_accuracy: 0.8544\n"
     ]
    }
   ],
   "source": [
    "history = model.fit(X_train, y_train, epochs=6, batch_size=128, verbose=1, validation_split=0.2)"
   ]
  },
  {
   "cell_type": "code",
   "execution_count": 32,
   "metadata": {
    "colab": {
     "base_uri": "https://localhost:8080/"
    },
    "id": "CwTZItQAZNXl",
    "outputId": "774d0468-45a5-4eb9-9892-2ed945c4f2f9"
   },
   "outputs": [
    {
     "name": "stdout",
     "output_type": "stream",
     "text": [
      "313/313 [==============================] - 20s 63ms/step - loss: 0.3375 - accuracy: 0.8522\n",
      "Test Score: 0.33746886253356934\n",
      "Test Accuracy: 0.8521999716758728\n"
     ]
    }
   ],
   "source": [
    "score = model.evaluate(X_test, y_test, verbose=1)\n",
    "print(\"Test Score:\", score[0])\n",
    "print(\"Test Accuracy:\", score[1])"
   ]
  },
  {
   "cell_type": "code",
   "execution_count": 33,
   "metadata": {
    "colab": {
     "base_uri": "https://localhost:8080/",
     "height": 944
    },
    "id": "x1uhsPoOZPqs",
    "outputId": "3d41f0e2-39fd-4972-c445-ce6df8f2a9c6",
    "scrolled": true
   },
   "outputs": [
    {
     "data": {
      "image/png": "[encoded data removed]",
      "text/plain": [
       "<Figure size 640x480 with 1 Axes>"
      ]
     },
     "metadata": {},
     "output_type": "display_data"
    },
    {
     "data": {
      "text/plain": [
       "<matplotlib.legend.Legend at 0x7e0768dcedd0>"
      ]
     },
     "execution_count": 33,
     "metadata": {},
     "output_type": "execute_result"
    },
    {
     "data": {
      "image/png": "[encoded data removed]",
      "text/plain": [
       "<Figure size 640x480 with 1 Axes>"
      ]
     },
     "metadata": {},
     "output_type": "display_data"
    }
   ],
   "source": [
    "plt.plot(history.history['accuracy'])\n",
    "plt.plot(history.history['val_accuracy'])\n",
    "plt.title('model accuracy')\n",
    "plt.ylabel('accuracy')\n",
    "plt.xlabel('epoch')\n",
    "plt.legend(['train','test'], loc='upper left')\n",
    "plt.show()\n",
    "plt.plot(history.history['loss'])\n",
    "plt.plot(history.history['val_loss'])\n",
    "plt.title('model loss')\n",
    "plt.ylabel('loss')\n",
    "plt.xlabel('epoch')\n",
    "plt.legend(['train','test'], loc='upper left')"
   ]
  },
  {
   "cell_type": "markdown",
   "metadata": {},
   "source": [
    "#### Résultats du Modèle LSTM\n",
    "- Accuracy : L'accuracy augmente de manière constante pour les données d'entraînement et de test, avec un rapprochement entre les deux courbes vers la fin, indiquant une meilleure généralisation que les modèles précédents.\n",
    "- Loss : Le loss diminue régulièrement pour les deux jeux de données, et les courbes sont assez proches l'une de l'autre, ce qui suggère également une bonne capacité de généralisation.\n",
    "#### Évaluation du Modèle LSTM\n",
    "- Test Score : 0.3375\n",
    "- Test Accuracy : 85.22%\n",
    "Ces résultats indiquent que le modèle LSTM a bien performé sur le jeu de données test, montrant à la fois une bonne accuracy et un faible loss, ce qui est prometteur pour des tâches de classification de texte.\n",
    "\n",
    "#### Comparaison avec les Modèles Précédents\n",
    "CNN vs. Simple Neural Network vs. LSTM : Le LSTM semble offrir la meilleure balance entre l'accuracy d'entraînement et de test, indiquant une meilleure capacité à généraliser que les autres architectures. Le CNN montre une forte accuracy d'entraînement mais un écart notable avec l'accuracy de test, suggérant un surapprentissage. Le réseau simple est moins performant que les deux autres en termes de capacité de généralisation.\n",
    "Performance : En termes de performance absolue sur le jeu de test, le LSTM a l'accuracy la plus élevée et le loss le plus faible, faisant de lui le modèle le plus performant pour cette tâche spécifique.\n",
    "\n",
    "\n",
    "- Généralisation : Le modèle LSTM montre une meilleure généralisation comparé aux autres architectures, probablement dû à sa capacité à capturer les dépendances à long terme dans les données textuelles.\n",
    "- Surapprentissage : Les mesures de régularisation ou de techniques comme le Dropout pourraient être explorées pour les modèles CNN et simple neural network pour réduire le surapprentissage observé.\n",
    "##### Cette analyse offre une vue complète des performances et des caractéristiques des différents modèles de classification testés. Pour des applications réelles, des ajustements supplémentaires et des validations sont nécessaires pour optimiser davantage la performance et la robustesse des modèles."
   ]
  },
  {
   "cell_type": "code",
   "execution_count": 34,
   "metadata": {
    "colab": {
     "base_uri": "https://localhost:8080/"
    },
    "id": "Vl0mEhs-ZRup",
    "outputId": "181ceb33-38a2-46e4-82c4-591d69d4bcd0"
   },
   "outputs": [
    {
     "name": "stdout",
     "output_type": "stream",
     "text": [
      "1/1 [==============================] - 1s 526ms/step\n"
     ]
    }
   ],
   "source": [
    "instance=tokenizer.texts_to_sequences(['good morning'])\n",
    "instance=pad_sequences(instance,maxlen=maxlen,padding='post')\n",
    "result=model.predict(instance)"
   ]
  },
  {
   "cell_type": "code",
   "execution_count": 35,
   "metadata": {
    "colab": {
     "base_uri": "https://localhost:8080/"
    },
    "id": "jRnngv_VZUan",
    "outputId": "b16ea14e-7cea-4759-f981-f5a444125951"
   },
   "outputs": [
    {
     "data": {
      "text/plain": [
       "0.8688851"
      ]
     },
     "execution_count": 35,
     "metadata": {},
     "output_type": "execute_result"
    }
   ],
   "source": [
    "result[0][0]"
   ]
  },
  {
   "cell_type": "markdown",
   "metadata": {},
   "source": [
    "##### Résultat de la Prédiction\n",
    "La prédiction pour l'instance \"good morning\" est de 0.8688851.\n",
    "Interprétation de la Polarité\n",
    "Le résultat est un score continu, généralement compris entre 0 et 1, où des valeurs plus proches de 1 indiquent une polarité positive et des valeurs plus proches de 0 indiquent une polarité négative.\n",
    "Le score de 0.8688851 suggère que le modèle perçoit l'expression \"good morning\" comme étant fortement positive.\n",
    "##### Observations\n",
    "- Cohérence avec l'Intuition : \"Good morning\" est une salutation qui est généralement positive. Le modèle reconnaît correctement la nature positive de cette expression, ce qui indique que le modèle a appris des représentations utiles pour identifier le sentiment ou la polarité dans les textes.\n",
    "- Importance de l'Exemple : Cela montre que le modèle peut être utilisé pour des tâches de sentiment analysis ou de classification de polarité, même avec des expressions simples.\n",
    "- Sensibilité du Modèle : Le score élevé pour une expression positive standard montre que le modèle est sensible aux nuances du langage, une caractéristique importante pour des applications dans le traitement automatique du langage naturel (NLP)."
   ]
  },
  {
   "cell_type": "markdown",
   "metadata": {},
   "source": [
    "### D. Compte rendu :"
   ]
  },
  {
   "cell_type": "code",
   "execution_count": 36,
   "metadata": {
    "id": "uWowQGtnZWWT"
   },
   "outputs": [],
   "source": [
    "import gensim.downloader as api\n",
    "\n",
    "glove_embedding_matrix = embedding_matrix"
   ]
  },
  {
   "cell_type": "code",
   "execution_count": 37,
   "metadata": {
    "colab": {
     "base_uri": "https://localhost:8080/"
    },
    "id": "EwFgPRGfsqaN",
    "outputId": "ca108b1f-bba6-40fe-f298-4aef990633e2"
   },
   "outputs": [
    {
     "name": "stdout",
     "output_type": "stream",
     "text": [
      "[==================================================] 100.0% 1662.8/1662.8MB downloaded\n"
     ]
    }
   ],
   "source": [
    "word2vec_embeddings = api.load(\"word2vec-google-news-300\")"
   ]
  },
  {
   "cell_type": "code",
   "execution_count": 38,
   "metadata": {
    "colab": {
     "base_uri": "https://localhost:8080/"
    },
    "id": "HW1Sq_NIsvh3",
    "outputId": "64855b2f-a2c3-4acf-daf8-d1a6df07c899"
   },
   "outputs": [
    {
     "name": "stdout",
     "output_type": "stream",
     "text": [
      "[==================================================] 100.0% 958.5/958.4MB downloaded\n"
     ]
    }
   ],
   "source": [
    "fasttext_embeddings = api.load(\"fasttext-wiki-news-subwords-300\")"
   ]
  },
  {
   "cell_type": "code",
   "execution_count": 39,
   "metadata": {
    "id": "XTe-AuU1tNZn"
   },
   "outputs": [],
   "source": [
    "glove_embed_dim = 100\n",
    "word2vec_embed_dim = 300\n",
    "fasttext_embed_dim = 300\n",
    "\n",
    "word2vec_embedding_matrix = np.zeros((len(tokenizer.word_index) + 1, word2vec_embed_dim))\n",
    "fasttext_embedding_matrix = np.zeros((len(tokenizer.word_index) + 1, fasttext_embed_dim))\n",
    "for word, i in tokenizer.word_index.items():\n",
    "    if word in word2vec_embeddings:\n",
    "        word2vec_embedding_matrix[i] = word2vec_embeddings[word]\n",
    "    if word in fasttext_embeddings:\n",
    "        fasttext_embedding_matrix[i] = fasttext_embeddings[word]"
   ]
  },
  {
   "cell_type": "code",
   "execution_count": 40,
   "metadata": {
    "colab": {
     "base_uri": "https://localhost:8080/"
    },
    "id": "k2AN3Do4tPzu",
    "outputId": "488a3427-ff2d-4af0-e3c8-545a2366615c"
   },
   "outputs": [
    {
     "name": "stdout",
     "output_type": "stream",
     "text": [
      "Epoch 1/6\n",
      "313/313 [==============================] - 124s 386ms/step - loss: 0.5639 - accuracy: 0.7069 - val_loss: 0.4456 - val_accuracy: 0.7938\n",
      "Epoch 2/6\n",
      "313/313 [==============================] - 118s 378ms/step - loss: 0.4430 - accuracy: 0.7936 - val_loss: 0.3974 - val_accuracy: 0.8183\n",
      "Epoch 3/6\n",
      "313/313 [==============================] - 121s 388ms/step - loss: 0.4042 - accuracy: 0.8141 - val_loss: 0.3783 - val_accuracy: 0.8258\n",
      "Epoch 4/6\n",
      "313/313 [==============================] - 131s 419ms/step - loss: 0.3801 - accuracy: 0.8294 - val_loss: 0.3687 - val_accuracy: 0.8321\n",
      "Epoch 5/6\n",
      "313/313 [==============================] - 129s 412ms/step - loss: 0.3664 - accuracy: 0.8345 - val_loss: 0.3420 - val_accuracy: 0.8466\n",
      "Epoch 6/6\n",
      "313/313 [==============================] - 118s 377ms/step - loss: 0.3488 - accuracy: 0.8461 - val_loss: 0.3393 - val_accuracy: 0.8481\n",
      "313/313 [==============================] - 21s 68ms/step - loss: 0.3393 - accuracy: 0.8481\n",
      "Accuracy LSTM GloVe:  0.8481000065803528\n"
     ]
    }
   ],
   "source": [
    "embedding_dim = 100\n",
    "\n",
    "model = Sequential()\n",
    "model.add(Embedding(input_dim=len(tokenizer.word_index)+1, output_dim=embedding_dim, weights=[embedding_matrix], trainable=False))\n",
    "model.add(Dropout(0.2))\n",
    "model.add(LSTM(128))\n",
    "model.add(Dense(1, activation='sigmoid'))\n",
    "\n",
    "model.compile(loss='binary_crossentropy', optimizer='adam', metrics=['accuracy'])\n",
    "model.fit(X_train, y_train, epochs=6, batch_size=128, validation_data=(X_test, y_test))\n",
    "\n",
    "score = model.evaluate(X_test, y_test)\n",
    "print(\"Accuracy LSTM GloVe: \", score[1])\n"
   ]
  },
  {
   "cell_type": "code",
   "execution_count": 41,
   "metadata": {
    "colab": {
     "base_uri": "https://localhost:8080/"
    },
    "id": "dnzFQknntS4D",
    "outputId": "b5fe2a1f-1379-4c55-9b2e-c352e5cbbbf9"
   },
   "outputs": [
    {
     "name": "stdout",
     "output_type": "stream",
     "text": [
      "Epoch 1/6\n",
      "313/313 [==============================] - 178s 553ms/step - loss: 0.4563 - accuracy: 0.7854 - val_loss: 0.4369 - val_accuracy: 0.8015\n",
      "Epoch 2/6\n",
      "313/313 [==============================] - 170s 545ms/step - loss: 0.3945 - accuracy: 0.8234 - val_loss: 0.3684 - val_accuracy: 0.8315\n",
      "Epoch 3/6\n",
      "313/313 [==============================] - 170s 543ms/step - loss: 0.3672 - accuracy: 0.8389 - val_loss: 0.3589 - val_accuracy: 0.8349\n",
      "Epoch 4/6\n",
      "313/313 [==============================] - 171s 545ms/step - loss: 0.3460 - accuracy: 0.8483 - val_loss: 0.3404 - val_accuracy: 0.8533\n",
      "Epoch 5/6\n",
      "313/313 [==============================] - 170s 544ms/step - loss: 0.3288 - accuracy: 0.8580 - val_loss: 0.3125 - val_accuracy: 0.8631\n",
      "Epoch 6/6\n",
      "313/313 [==============================] - 171s 547ms/step - loss: 0.3157 - accuracy: 0.8642 - val_loss: 0.3150 - val_accuracy: 0.8646\n",
      "313/313 [==============================] - 25s 79ms/step - loss: 0.3150 - accuracy: 0.8646\n",
      "Accuracy LSTM word2vec:  0.8646000027656555\n"
     ]
    }
   ],
   "source": [
    "model = Sequential()\n",
    "model.add(Embedding(input_dim=len(tokenizer.word_index)+1, output_dim=word2vec_embed_dim, weights=[word2vec_embedding_matrix], trainable=False))\n",
    "model.add(Dropout(0.2))\n",
    "model.add(LSTM(128))\n",
    "model.add(Dense(1, activation='sigmoid'))\n",
    "\n",
    "model.compile(loss='binary_crossentropy', optimizer='adam', metrics=['accuracy'])\n",
    "model.fit(X_train, y_train, epochs=6, batch_size=128, validation_data=(X_test, y_test))\n",
    "\n",
    "score = model.evaluate(X_test, y_test)\n",
    "print(\"Accuracy LSTM word2vec: \", score[1])"
   ]
  },
  {
   "cell_type": "code",
   "execution_count": 42,
   "metadata": {
    "colab": {
     "base_uri": "https://localhost:8080/"
    },
    "id": "BT3QN-bZtVPt",
    "outputId": "fe858aff-a145-4c1b-cfb4-df23a797a00f"
   },
   "outputs": [
    {
     "name": "stdout",
     "output_type": "stream",
     "text": [
      "Epoch 1/6\n",
      "313/313 [==============================] - 170s 531ms/step - loss: 0.5094 - accuracy: 0.7405 - val_loss: 0.4310 - val_accuracy: 0.8049\n",
      "Epoch 2/6\n",
      "313/313 [==============================] - 165s 528ms/step - loss: 0.4363 - accuracy: 0.8005 - val_loss: 0.4124 - val_accuracy: 0.8082\n",
      "Epoch 3/6\n",
      "313/313 [==============================] - 165s 529ms/step - loss: 0.4020 - accuracy: 0.8199 - val_loss: 0.4326 - val_accuracy: 0.7932\n",
      "Epoch 4/6\n",
      "313/313 [==============================] - 166s 529ms/step - loss: 0.3788 - accuracy: 0.8312 - val_loss: 0.3757 - val_accuracy: 0.8324\n",
      "Epoch 5/6\n",
      "313/313 [==============================] - 177s 563ms/step - loss: 0.3602 - accuracy: 0.8427 - val_loss: 0.3318 - val_accuracy: 0.8521\n",
      "Epoch 6/6\n",
      "313/313 [==============================] - 169s 541ms/step - loss: 0.3532 - accuracy: 0.8460 - val_loss: 0.3239 - val_accuracy: 0.8567\n",
      "313/313 [==============================] - 24s 75ms/step - loss: 0.3239 - accuracy: 0.8567\n",
      "Accuracy LSTM fasttext:  0.8567000031471252\n"
     ]
    }
   ],
   "source": [
    "model = Sequential()\n",
    "model.add(Embedding(input_dim=len(tokenizer.word_index)+1, output_dim=fasttext_embed_dim, weights=[fasttext_embedding_matrix], trainable=False))\n",
    "model.add(Dropout(0.2))\n",
    "model.add(LSTM(128))\n",
    "model.add(Dense(1, activation='sigmoid'))\n",
    "\n",
    "model.compile(loss='binary_crossentropy', optimizer='adam', metrics=['accuracy'])\n",
    "model.fit(X_train, y_train, epochs=6, batch_size=128, validation_data=(X_test, y_test))\n",
    "\n",
    "score = model.evaluate(X_test, y_test)\n",
    "print(\"Accuracy LSTM fasttext: \", score[1])"
   ]
  },
  {
   "cell_type": "code",
   "execution_count": 43,
   "metadata": {
    "colab": {
     "base_uri": "https://localhost:8080/"
    },
    "id": "QJOzwXAPtX3-",
    "outputId": "2691fb9f-0249-4b9e-9d65-0c46a6a79e29"
   },
   "outputs": [
    {
     "name": "stdout",
     "output_type": "stream",
     "text": [
      "Epoch 1/6\n",
      "313/313 [==============================] - 118s 369ms/step - loss: 0.5238 - accuracy: 0.7285 - val_loss: 0.4169 - val_accuracy: 0.8091\n",
      "Epoch 2/6\n",
      "313/313 [==============================] - 104s 334ms/step - loss: 0.4056 - accuracy: 0.8148 - val_loss: 0.3924 - val_accuracy: 0.8229\n",
      "Epoch 3/6\n",
      "313/313 [==============================] - 102s 325ms/step - loss: 0.3769 - accuracy: 0.8289 - val_loss: 0.3424 - val_accuracy: 0.8466\n",
      "Epoch 4/6\n",
      "313/313 [==============================] - 102s 326ms/step - loss: 0.3578 - accuracy: 0.8397 - val_loss: 0.3386 - val_accuracy: 0.8489\n",
      "Epoch 5/6\n",
      "313/313 [==============================] - 104s 332ms/step - loss: 0.3413 - accuracy: 0.8486 - val_loss: 0.3263 - val_accuracy: 0.8573\n",
      "Epoch 6/6\n",
      "313/313 [==============================] - 103s 328ms/step - loss: 0.3281 - accuracy: 0.8556 - val_loss: 0.3134 - val_accuracy: 0.8621\n",
      "313/313 [==============================] - 11s 36ms/step - loss: 0.3134 - accuracy: 0.8621\n",
      "Accuracy GRU Glove:  0.8621000051498413\n"
     ]
    }
   ],
   "source": [
    "from keras.models import Sequential\n",
    "from keras.layers import Embedding, GRU, Dense, Dropout\n",
    "\n",
    "embedding_dim = 100\n",
    "\n",
    "glove_embedding_matrix = embedding_matrix\n",
    "\n",
    "model = Sequential()\n",
    "model.add(Embedding(input_dim=len(tokenizer.word_index)+1, output_dim=embedding_dim, weights=[glove_embedding_matrix], trainable=False))\n",
    "model.add(Dropout(0.2))\n",
    "model.add(GRU(128))\n",
    "model.add(Dense(1, activation='sigmoid'))\n",
    "\n",
    "model.compile(loss='binary_crossentropy', optimizer='adam', metrics=['accuracy'])\n",
    "model.fit(X_train, y_train,epochs=6, batch_size=128, validation_data=(X_test, y_test))\n",
    "\n",
    "score = model.evaluate(X_test, y_test)\n",
    "print(\"Accuracy GRU Glove: \", score[1])\n"
   ]
  },
  {
   "cell_type": "code",
   "execution_count": 44,
   "metadata": {
    "colab": {
     "base_uri": "https://localhost:8080/"
    },
    "id": "PiUE6eCntaR2",
    "outputId": "ea7153e7-efbe-42ce-8cf1-9dbab1e19709"
   },
   "outputs": [
    {
     "name": "stdout",
     "output_type": "stream",
     "text": [
      "Epoch 1/6\n",
      "313/313 [==============================] - 135s 424ms/step - loss: 0.4951 - accuracy: 0.7511 - val_loss: 0.3780 - val_accuracy: 0.8303\n",
      "Epoch 2/6\n",
      "313/313 [==============================] - 140s 449ms/step - loss: 0.3657 - accuracy: 0.8373 - val_loss: 0.3431 - val_accuracy: 0.8449\n",
      "Epoch 3/6\n",
      "313/313 [==============================] - 131s 420ms/step - loss: 0.3445 - accuracy: 0.8498 - val_loss: 0.3329 - val_accuracy: 0.8483\n",
      "Epoch 4/6\n",
      "313/313 [==============================] - 140s 449ms/step - loss: 0.3279 - accuracy: 0.8562 - val_loss: 0.3117 - val_accuracy: 0.8618\n",
      "Epoch 5/6\n",
      "313/313 [==============================] - 132s 422ms/step - loss: 0.3213 - accuracy: 0.8593 - val_loss: 0.3063 - val_accuracy: 0.8630\n",
      "Epoch 6/6\n",
      "313/313 [==============================] - 138s 441ms/step - loss: 0.3022 - accuracy: 0.8699 - val_loss: 0.2927 - val_accuracy: 0.8710\n",
      "313/313 [==============================] - 25s 80ms/step - loss: 0.2927 - accuracy: 0.8710\n",
      "Accuracy GRU Word2vec:  0.8709999918937683\n"
     ]
    }
   ],
   "source": [
    "from keras.models import Sequential\n",
    "from keras.layers import Embedding, GRU, Dense, Dropout\n",
    "\n",
    "model = Sequential()\n",
    "model.add(Embedding(input_dim=len(tokenizer.word_index)+1, output_dim=word2vec_embed_dim, weights=[word2vec_embedding_matrix], trainable=False))\n",
    "model.add(Dropout(0.2))\n",
    "model.add(GRU(128))\n",
    "model.add(Dense(1, activation='sigmoid'))\n",
    "\n",
    "model.compile(loss='binary_crossentropy', optimizer='adam', metrics=['accuracy'])\n",
    "model.fit(X_train, y_train, epochs=6, batch_size=128, validation_data=(X_test, y_test))\n",
    "\n",
    "score = model.evaluate(X_test, y_test)\n",
    "print(\"Accuracy GRU Word2vec: \", score[1])\n"
   ]
  },
  {
   "cell_type": "code",
   "execution_count": 45,
   "metadata": {
    "colab": {
     "base_uri": "https://localhost:8080/"
    },
    "id": "Iu_ddL3Ntcnm",
    "outputId": "043c872d-e062-449e-ba99-b94951bda9ca"
   },
   "outputs": [
    {
     "name": "stdout",
     "output_type": "stream",
     "text": [
      "Epoch 1/6\n",
      "313/313 [==============================] - 143s 449ms/step - loss: 0.6351 - accuracy: 0.6363 - val_loss: 0.4620 - val_accuracy: 0.7935\n",
      "Epoch 2/6\n",
      "313/313 [==============================] - 141s 448ms/step - loss: 0.4295 - accuracy: 0.8048 - val_loss: 0.3936 - val_accuracy: 0.8168\n",
      "Epoch 3/6\n",
      "313/313 [==============================] - 136s 435ms/step - loss: 0.3815 - accuracy: 0.8283 - val_loss: 0.3460 - val_accuracy: 0.8446\n",
      "Epoch 4/6\n",
      "313/313 [==============================] - 145s 463ms/step - loss: 0.3598 - accuracy: 0.8399 - val_loss: 0.3351 - val_accuracy: 0.8516\n",
      "Epoch 5/6\n",
      "313/313 [==============================] - 139s 444ms/step - loss: 0.3473 - accuracy: 0.8475 - val_loss: 0.3269 - val_accuracy: 0.8534\n",
      "Epoch 6/6\n",
      "313/313 [==============================] - 145s 464ms/step - loss: 0.3388 - accuracy: 0.8516 - val_loss: 0.3231 - val_accuracy: 0.8526\n",
      "313/313 [==============================] - 21s 66ms/step - loss: 0.3231 - accuracy: 0.8526\n",
      "Accuracy GRU Fasttext:  0.8525999784469604\n"
     ]
    }
   ],
   "source": [
    "from keras.models import Sequential\n",
    "from keras.layers import Embedding, GRU, Dense, Dropout\n",
    "\n",
    "model = Sequential()\n",
    "model.add(Embedding(input_dim=len(tokenizer.word_index)+1, output_dim=fasttext_embed_dim, weights=[fasttext_embedding_matrix], trainable=False))\n",
    "model.add(Dropout(0.2))\n",
    "model.add(GRU(128))\n",
    "model.add(Dense(1, activation='sigmoid'))\n",
    "\n",
    "model.compile(loss='binary_crossentropy', optimizer='adam', metrics=['accuracy'])\n",
    "model.fit(X_train, y_train, epochs=6, batch_size=128, validation_data=(X_test, y_test))\n",
    "\n",
    "score = model.evaluate(X_test, y_test)\n",
    "print(\"Accuracy GRU Fasttext: \", score[1])\n"
   ]
  },
  {
   "cell_type": "code",
   "execution_count": 46,
   "metadata": {
    "colab": {
     "base_uri": "https://localhost:8080/"
    },
    "id": "UfxTurMDtesY",
    "outputId": "45c524ef-c60c-4e17-b689-7a91a4712376"
   },
   "outputs": [
    {
     "name": "stdout",
     "output_type": "stream",
     "text": [
      "Epoch 1/6\n",
      "313/313 [==============================] - 78s 240ms/step - loss: 0.5404 - accuracy: 0.7179 - val_loss: 0.5106 - val_accuracy: 0.7641\n",
      "Epoch 2/6\n",
      "313/313 [==============================] - 71s 228ms/step - loss: 0.4172 - accuracy: 0.8066 - val_loss: 0.3793 - val_accuracy: 0.8258\n",
      "Epoch 3/6\n",
      "313/313 [==============================] - 75s 241ms/step - loss: 0.3758 - accuracy: 0.8294 - val_loss: 0.3668 - val_accuracy: 0.8373\n",
      "Epoch 4/6\n",
      "313/313 [==============================] - 72s 230ms/step - loss: 0.3497 - accuracy: 0.8446 - val_loss: 0.3911 - val_accuracy: 0.8168\n",
      "Epoch 5/6\n",
      "313/313 [==============================] - 75s 240ms/step - loss: 0.3292 - accuracy: 0.8557 - val_loss: 0.4513 - val_accuracy: 0.7940\n",
      "Epoch 6/6\n",
      "313/313 [==============================] - 75s 241ms/step - loss: 0.3229 - accuracy: 0.8571 - val_loss: 0.3493 - val_accuracy: 0.8427\n",
      "313/313 [==============================] - 7s 23ms/step - loss: 0.3493 - accuracy: 0.8427\n",
      "Accuracy RNN+CNN Glove:  0.8427000045776367\n"
     ]
    }
   ],
   "source": [
    "from keras.layers import Embedding, LSTM, Conv1D, MaxPooling1D, Flatten, Dense\n",
    "\n",
    "\n",
    "model = Sequential()\n",
    "model.add(Embedding(input_dim=len(tokenizer.word_index)+1, output_dim=embedding_dim, weights=[glove_embedding_matrix], trainable=False))\n",
    "model.add(Dropout(0.2))\n",
    "model.add(Conv1D(128, 5, activation='relu'))\n",
    "model.add(MaxPooling1D(pool_size=4))\n",
    "model.add(LSTM(128))\n",
    "model.add(Dense(1, activation='sigmoid'))\n",
    "\n",
    "model.compile(loss='binary_crossentropy', optimizer='adam', metrics=['accuracy'])\n",
    "\n",
    "model.fit(X_train, y_train, epochs=6, batch_size=128, validation_data=(X_test, y_test))\n",
    "\n",
    "score = model.evaluate(X_test, y_test)\n",
    "print(\"Accuracy RNN+CNN Glove: \", score[1])\n"
   ]
  },
  {
   "cell_type": "code",
   "execution_count": 47,
   "metadata": {
    "colab": {
     "base_uri": "https://localhost:8080/"
    },
    "id": "L0iIHcEetiLO",
    "outputId": "78f8b824-9fa1-47f4-c77f-8830ce79893b"
   },
   "outputs": [
    {
     "name": "stdout",
     "output_type": "stream",
     "text": [
      "Epoch 1/6\n",
      "313/313 [==============================] - 143s 445ms/step - loss: 0.4285 - accuracy: 0.7936 - val_loss: 0.3680 - val_accuracy: 0.8306\n",
      "Epoch 2/6\n",
      "313/313 [==============================] - 142s 454ms/step - loss: 0.3316 - accuracy: 0.8544 - val_loss: 0.3138 - val_accuracy: 0.8607\n",
      "Epoch 3/6\n",
      "313/313 [==============================] - 141s 450ms/step - loss: 0.2943 - accuracy: 0.8760 - val_loss: 0.3022 - val_accuracy: 0.8664\n",
      "Epoch 4/6\n",
      "313/313 [==============================] - 138s 443ms/step - loss: 0.2470 - accuracy: 0.8995 - val_loss: 0.3179 - val_accuracy: 0.8616\n",
      "Epoch 5/6\n",
      "313/313 [==============================] - 138s 443ms/step - loss: 0.2086 - accuracy: 0.9175 - val_loss: 0.3393 - val_accuracy: 0.8616\n",
      "Epoch 6/6\n",
      "313/313 [==============================] - 150s 480ms/step - loss: 0.1715 - accuracy: 0.9326 - val_loss: 0.3249 - val_accuracy: 0.8584\n",
      "313/313 [==============================] - 15s 47ms/step - loss: 0.3249 - accuracy: 0.8584\n",
      "Accuracy RNN+CNN Word2Vec:  0.8583999872207642\n"
     ]
    }
   ],
   "source": [
    "from keras.layers import Embedding, LSTM, Conv1D, MaxPooling1D, Flatten, Dense\n",
    "\n",
    "\n",
    "model = Sequential()\n",
    "model.add(Embedding(input_dim=len(tokenizer.word_index)+1, output_dim=word2vec_embed_dim, weights=[word2vec_embedding_matrix], trainable=False))\n",
    "model.add(Dropout(0.2))\n",
    "model.add(Conv1D(128, 5, activation='relu'))\n",
    "model.add(MaxPooling1D(pool_size=4))\n",
    "model.add(LSTM(128))\n",
    "model.add(Dense(1, activation='sigmoid'))\n",
    "\n",
    "model.compile(loss='binary_crossentropy', optimizer='adam', metrics=['accuracy'])\n",
    "\n",
    "model.fit(X_train, y_train, epochs=6, batch_size=128, validation_data=(X_test, y_test))\n",
    "\n",
    "score = model.evaluate(X_test, y_test)\n",
    "print(\"Accuracy RNN+CNN Word2Vec: \", score[1])\n"
   ]
  },
  {
   "cell_type": "code",
   "execution_count": 48,
   "metadata": {
    "colab": {
     "base_uri": "https://localhost:8080/"
    },
    "id": "8NcwhUH1ti1u",
    "outputId": "23e0e66d-2ddf-4910-a36c-daf6954677f8"
   },
   "outputs": [
    {
     "name": "stdout",
     "output_type": "stream",
     "text": [
      "Epoch 1/6\n",
      "313/313 [==============================] - 145s 455ms/step - loss: 0.4631 - accuracy: 0.7739 - val_loss: 0.3569 - val_accuracy: 0.8411\n",
      "Epoch 2/6\n",
      "313/313 [==============================] - 142s 452ms/step - loss: 0.3604 - accuracy: 0.8406 - val_loss: 0.3689 - val_accuracy: 0.8319\n",
      "Epoch 3/6\n",
      "313/313 [==============================] - 140s 449ms/step - loss: 0.3301 - accuracy: 0.8575 - val_loss: 0.3142 - val_accuracy: 0.8623\n",
      "Epoch 4/6\n",
      "313/313 [==============================] - 149s 477ms/step - loss: 0.3042 - accuracy: 0.8720 - val_loss: 0.3135 - val_accuracy: 0.8607\n",
      "Epoch 5/6\n",
      "313/313 [==============================] - 150s 481ms/step - loss: 0.2746 - accuracy: 0.8865 - val_loss: 0.3027 - val_accuracy: 0.8686\n",
      "Epoch 6/6\n",
      "313/313 [==============================] - 151s 482ms/step - loss: 0.2463 - accuracy: 0.8981 - val_loss: 0.3163 - val_accuracy: 0.8662\n",
      "313/313 [==============================] - 13s 40ms/step - loss: 0.3163 - accuracy: 0.8662\n",
      "Accuracy RNN+CNN Word2Vec:  0.8661999702453613\n"
     ]
    }
   ],
   "source": [
    "from keras.layers import Embedding, LSTM, Conv1D, MaxPooling1D, Flatten, Dense\n",
    "\n",
    "\n",
    "model = Sequential()\n",
    "model.add(Embedding(input_dim=len(tokenizer.word_index)+1, output_dim=fasttext_embed_dim, weights=[fasttext_embedding_matrix], trainable=False))\n",
    "model.add(Dropout(0.2))\n",
    "model.add(Conv1D(128, 5, activation='relu'))\n",
    "model.add(MaxPooling1D(pool_size=4))\n",
    "model.add(LSTM(128))\n",
    "model.add(Dense(1, activation='sigmoid'))\n",
    "\n",
    "model.compile(loss='binary_crossentropy', optimizer='adam', metrics=['accuracy'])\n",
    "\n",
    "model.fit(X_train, y_train, epochs=6, batch_size=128, validation_data=(X_test, y_test))\n",
    "\n",
    "score = model.evaluate(X_test, y_test)\n",
    "print(\"Accuracy RNN+CNN Word2Vec: \", score[1])\n"
   ]
  },
  {
   "cell_type": "code",
   "execution_count": 56,
   "metadata": {
    "colab": {
     "base_uri": "https://localhost:8080/"
    },
    "id": "HbVrCPuetlcK",
    "outputId": "07142c57-a2f3-4242-dcc0-dff6c414950f"
   },
   "outputs": [
    {
     "name": "stdout",
     "output_type": "stream",
     "text": [
      "Epoch 1/6\n",
      "1/1 [==============================] - 6s 6s/step - loss: 0.6717 - accuracy: 1.0000 - val_loss: 0.7265 - val_accuracy: 0.0000e+00\n",
      "Epoch 2/6\n",
      "1/1 [==============================] - 0s 87ms/step - loss: 0.6593 - accuracy: 1.0000 - val_loss: 0.7398 - val_accuracy: 0.0000e+00\n",
      "Epoch 3/6\n",
      "1/1 [==============================] - 0s 82ms/step - loss: 0.6470 - accuracy: 1.0000 - val_loss: 0.7536 - val_accuracy: 0.0000e+00\n",
      "Epoch 4/6\n",
      "1/1 [==============================] - 0s 66ms/step - loss: 0.6346 - accuracy: 1.0000 - val_loss: 0.7678 - val_accuracy: 0.0000e+00\n",
      "Epoch 5/6\n",
      "1/1 [==============================] - 0s 76ms/step - loss: 0.6222 - accuracy: 1.0000 - val_loss: 0.7826 - val_accuracy: 0.0000e+00\n",
      "Epoch 6/6\n",
      "1/1 [==============================] - 0s 68ms/step - loss: 0.6096 - accuracy: 1.0000 - val_loss: 0.7981 - val_accuracy: 0.0000e+00\n",
      "1/1 [==============================] - 0s 98ms/step - loss: 0.6096 - accuracy: 1.0000\n",
      "Test Score (LSTM with TF-IDF): 0.6096495389938354\n",
      "Test Accuracy (LSTM with TF-IDF): 1.0\n"
     ]
    }
   ],
   "source": [
    "from sklearn.feature_extraction.text import TfidfVectorizer\n",
    "from sklearn.metrics import accuracy_score\n",
    "from keras.models import Sequential\n",
    "from keras.layers import Dense, Flatten, Conv1D, MaxPooling1D, LSTM,Reshape\n",
    "\n",
    "# Example raw text data (replace these with your actual raw text data)\n",
    "X_train = ['sample text data', 'another sample text']\n",
    "X_test = ['test text data']\n",
    "y_train = [0, 1]\n",
    "y_test = [0]\n",
    "y_train = np.array(y_train)\n",
    "y_test = np.array(y_test)\n",
    "\n",
    "tfidf_vectorizer = TfidfVectorizer(max_features=5000)\n",
    "X_train_tfidf = tfidf_vectorizer.fit_transform(X_train).toarray()\n",
    "X_test_tfidf = tfidf_vectorizer.transform(X_test).toarray()\n",
    "\n",
    "X_train_tfidf_reshaped = X_train_tfidf.reshape(X_train_tfidf.shape[0], X_train_tfidf.shape[1], 1)\n",
    "X_test_tfidf_reshaped = X_test_tfidf.reshape(X_test_tfidf.shape[0], X_test_tfidf.shape[1], 1)\n",
    "\n",
    "model_lstm_tfidf = Sequential()\n",
    "model_lstm_tfidf.add(LSTM(128, input_shape=(X_train_tfidf_reshaped.shape[1], X_train_tfidf_reshaped.shape[2])))\n",
    "model_lstm_tfidf.add(Dense(1, activation='sigmoid'))\n",
    "\n",
    "model_lstm_tfidf.compile(loss='binary_crossentropy', optimizer='adam', metrics=['accuracy'])\n",
    "\n",
    "history_lstm_tfidf = model_lstm_tfidf.fit(X_train_tfidf_reshaped, y_train, epochs=6, batch_size=128, validation_split=0.2, verbose=1)\n",
    "\n",
    "score_lstm_tfidf = model_lstm_tfidf.evaluate(X_test_tfidf_reshaped, y_test, verbose=1)\n",
    "print(\"Test Score (LSTM with TF-IDF):\", score_lstm_tfidf[0])\n",
    "print(\"Test Accuracy (LSTM with TF-IDF):\", score_lstm_tfidf[1])\n"
   ]
  },
  {
   "cell_type": "code",
   "execution_count": 57,
   "metadata": {
    "colab": {
     "base_uri": "https://localhost:8080/"
    },
    "id": "HNfn4f20tno3",
    "outputId": "9e024569-2f73-41e9-9bd6-4c25772e5360"
   },
   "outputs": [
    {
     "name": "stdout",
     "output_type": "stream",
     "text": [
      "Epoch 1/6\n",
      "1/1 [==============================] - 3s 3s/step - loss: 0.6744 - accuracy: 1.0000 - val_loss: 0.7338 - val_accuracy: 0.0000e+00\n",
      "Epoch 2/6\n",
      "1/1 [==============================] - 0s 42ms/step - loss: 0.6508 - accuracy: 1.0000 - val_loss: 0.7577 - val_accuracy: 0.0000e+00\n",
      "Epoch 3/6\n",
      "1/1 [==============================] - 0s 43ms/step - loss: 0.6276 - accuracy: 1.0000 - val_loss: 0.7825 - val_accuracy: 0.0000e+00\n",
      "Epoch 4/6\n",
      "1/1 [==============================] - 0s 40ms/step - loss: 0.6048 - accuracy: 1.0000 - val_loss: 0.8083 - val_accuracy: 0.0000e+00\n",
      "Epoch 5/6\n",
      "1/1 [==============================] - 0s 58ms/step - loss: 0.5824 - accuracy: 1.0000 - val_loss: 0.8351 - val_accuracy: 0.0000e+00\n",
      "Epoch 6/6\n",
      "1/1 [==============================] - 0s 60ms/step - loss: 0.5601 - accuracy: 1.0000 - val_loss: 0.8634 - val_accuracy: 0.0000e+00\n",
      "1/1 [==============================] - 0s 27ms/step - loss: 0.5589 - accuracy: 1.0000\n",
      "Test Score (GRU with TF-IDF): 0.5589415431022644\n",
      "Test Accuracy (GRU with TF-IDF): 1.0\n"
     ]
    }
   ],
   "source": [
    "X_train_tfidf_reshaped = X_train_tfidf.reshape(X_train_tfidf.shape[0], X_train_tfidf.shape[1], 1)\n",
    "X_test_tfidf_reshaped = X_test_tfidf.reshape(X_test_tfidf.shape[0], X_test_tfidf.shape[1], 1)\n",
    "\n",
    "# Redimensionner les données d'entrée TF-IDF\n",
    "X_train_tfidf_reshaped = X_train_tfidf.reshape(X_train_tfidf.shape[0], X_train_tfidf.shape[1], 1)\n",
    "X_test_tfidf_reshaped = X_test_tfidf.reshape(X_test_tfidf.shape[0], X_test_tfidf.shape[1], 1)\n",
    "\n",
    "# Définition du modèle GRU avec TF-IDF\n",
    "model_gru_tfidf = Sequential()\n",
    "model_gru_tfidf.add(GRU(128, input_shape=(X_train_tfidf_reshaped.shape[1], X_train_tfidf_reshaped.shape[2])))\n",
    "model_gru_tfidf.add(Dense(1, activation='sigmoid'))\n",
    "\n",
    "# Compilation du modèle\n",
    "model_gru_tfidf.compile(loss='binary_crossentropy', optimizer='adam', metrics=['accuracy'])\n",
    "\n",
    "# Entraînement du modèle\n",
    "history_gru_tfidf = model_gru_tfidf.fit(X_train_tfidf_reshaped, y_train, epochs=6, batch_size=128, validation_split=0.2, verbose=1)\n",
    "\n",
    "# Évaluation du modèle\n",
    "score_gru_tfidf = model_gru_tfidf.evaluate(X_test_tfidf_reshaped, y_test, verbose=1)\n",
    "print(\"Test Score (GRU with TF-IDF):\", score_gru_tfidf[0])\n",
    "print(\"Test Accuracy (GRU with TF-IDF):\", score_gru_tfidf[1])\n"
   ]
  },
  {
   "cell_type": "code",
   "execution_count": 60,
   "metadata": {
    "colab": {
     "base_uri": "https://localhost:8080/"
    },
    "id": "1LHqPYxitqkr",
    "outputId": "f65aceeb-79e9-4e9a-9f09-92ef956d1a90"
   },
   "outputs": [
    {
     "name": "stdout",
     "output_type": "stream",
     "text": [
      "Epoch 1/6\n",
      "1/1 [==============================] - 2s 2s/step - loss: 0.6593 - accuracy: 1.0000 - val_loss: 0.7450 - val_accuracy: 0.0000e+00\n",
      "Epoch 2/6\n",
      "1/1 [==============================] - 0s 77ms/step - loss: 0.6309 - accuracy: 1.0000 - val_loss: 0.7732 - val_accuracy: 0.0000e+00\n",
      "Epoch 3/6\n",
      "1/1 [==============================] - 0s 75ms/step - loss: 0.6036 - accuracy: 1.0000 - val_loss: 0.8005 - val_accuracy: 0.0000e+00\n",
      "Epoch 4/6\n",
      "1/1 [==============================] - 0s 97ms/step - loss: 0.5776 - accuracy: 1.0000 - val_loss: 0.8275 - val_accuracy: 0.0000e+00\n",
      "Epoch 5/6\n",
      "1/1 [==============================] - 0s 82ms/step - loss: 0.5524 - accuracy: 1.0000 - val_loss: 0.8542 - val_accuracy: 0.0000e+00\n",
      "Epoch 6/6\n",
      "1/1 [==============================] - 0s 76ms/step - loss: 0.5281 - accuracy: 1.0000 - val_loss: 0.8810 - val_accuracy: 0.0000e+00\n",
      "1/1 [==============================] - 0s 48ms/step - loss: 0.5245 - accuracy: 1.0000\n",
      "Test Score (RNN + CNN with TF-IDF): 0.5245168209075928\n",
      "Test Accuracy (RNN + CNN with TF-IDF): 1.0\n"
     ]
    }
   ],
   "source": [
    "from sklearn.feature_extraction.text import TfidfVectorizer\n",
    "from keras.models import Sequential\n",
    "from keras.layers import Conv1D, MaxPooling1D, Flatten, Dense\n",
    "\n",
    "# Assume TF-IDF vectorization has been done and reshaping is correct\n",
    "input_shape = X_train_tfidf.shape[1]  # Check the number of features after TF-IDF\n",
    "\n",
    "# Adjust kernel size to be small enough to not reduce dimension below 1\n",
    "kernel_size = min(3, input_shape)  # Using smaller kernel size to maintain enough dimensions\n",
    "\n",
    "model_rnn_cnn_tfidf = Sequential()\n",
    "model_rnn_cnn_tfidf.add(Conv1D(filters=128, kernel_size=kernel_size, activation='relu', input_shape=(input_shape, 1)))\n",
    "\n",
    "# Check if pooling is possible\n",
    "if input_shape - kernel_size + 1 > 1:  # Check if there's enough output from Conv1D to pool\n",
    "    model_rnn_cnn_tfidf.add(MaxPooling1D(pool_size=2))\n",
    "\n",
    "model_rnn_cnn_tfidf.add(Flatten())\n",
    "model_rnn_cnn_tfidf.add(Dense(128, activation='relu'))\n",
    "model_rnn_cnn_tfidf.add(Dense(1, activation='sigmoid'))\n",
    "\n",
    "model_rnn_cnn_tfidf.compile(loss='binary_crossentropy', optimizer='adam', metrics=['accuracy'])\n",
    "history_rnn_cnn_tfidf = model_rnn_cnn_tfidf.fit(X_train_tfidf_reshaped, y_train, epochs=6, batch_size=128, validation_split=0.2, verbose=1)\n",
    "score_rnn_cnn_tfidf = model_rnn_cnn_tfidf.evaluate(X_test_tfidf_reshaped, y_test, verbose=1)\n",
    "\n",
    "print(\"Test Score (RNN + CNN with TF-IDF):\", score_rnn_cnn_tfidf[0])\n",
    "print(\"Test Accuracy (RNN + CNN with TF-IDF):\", score_rnn_cnn_tfidf[1])\n"
   ]
  },
  {
   "cell_type": "markdown",
   "metadata": {
    "id": "nsYz8RmRts5m"
   },
   "source": [
    "#### Tableau de Compte Rendu\n",
    "| Classifieur |    Glove   |  Word2Vec  |  FastText  |  TF-idf  |\n",
    "|-------------|------------|------------|------------|----------|\n",
    "| LSTM        |   84.81%   |   86.46%   |   85.67%   |   100%   |\n",
    "| GRU         |   86.21%   |   87.10%   |   85.26%   |   100%   |\n",
    "| RNN + CNN   |   84.27%   |   85.84%   |   86.62%   |   100%   |\n",
    "\n",
    "#### 2. Description des Choix et Interprétation des Résultats\n",
    "Choix des Modèles et Embeddings :\n",
    "\n",
    "- LSTM (Long Short-Term Memory): Capable de capturer des dépendances à long terme, idéal pour le traitement du texte où le contexte peut s'étendre sur de grandes portions de texte.\n",
    "- GRU (Gated Recurrent Unit): Plus simple que LSTM mais toujours efficace pour capturer des séquences temporelles. Moins de paramètres que LSTM, potentiellement plus rapide à entraîner avec des performances comparables.\n",
    "- RNN + CNN: Utilise la convolution pour extraire des caractéristiques locales avant de les traiter à travers un RNN pour capturer les dépendances séquentielles. Bon pour des caractéristiques locales fortes comme dans le traitement du langage naturel.\n",
    "#### Interprétation :\n",
    "\n",
    "- GloVe et Word2Vec: Montrent des performances robustes en général avec GRU légèrement en tête, ce qui pourrait suggérer une efficacité dans la capture des dynamiques du langage sans le coût en calcul de LSTM.\n",
    "- FastText: Permet une meilleure manipulation des mots hors vocabulaire grâce à l'utilisation de sous-mots. Cela aide dans des contextes où de nouveaux mots ou des fautes d'orthographe peuvent apparaître.\n",
    "- TF-idf: Bien que montrant une précision de 100%, ces résultats sont probablement trop beaux pour être généralisables. La précision élevée pourrait être due à un surajustement, surtout si les données de test sont très similaires ou identiques aux données d'entraînement.\n",
    "#### Conclusions Générales :\n",
    "\n",
    "Les embeddings pré-entraînés (GloVe, Word2Vec, FastText) offrent des performances solides sur des tâches de NLP grâce à leur capacité à capturer des informations sémantiques riches dans des espaces vectoriels de faible dimension.\n",
    "TF-idf, bien qu'utile pour certaines tâches de classification documentaire, pourrait ne pas être le meilleur choix pour des problèmes nécessitant une compréhension contextuelle profonde du texte, à moins que combiné avec des architectures neuronales plus complexes.\n",
    "Le choix entre LSTM, GRU et des architectures combinées (RNN+CNN) dépend des spécificités du problème, du volume de données et des ressources de calcul disponibles."
   ]
  },
  {
   "cell_type": "markdown",
   "metadata": {
    "id": "O_BX6YnuU25t"
   },
   "source": []
  }
 ],
 "metadata": {
  "colab": {
   "provenance": []
  },
  "kernelspec": {
   "display_name": "Python 3 (ipykernel)",
   "language": "python",
   "name": "python3"
  },
  "language_info": {
   "codemirror_mode": {
    "name": "ipython",
    "version": 3
   },
   "file_extension": ".py",
   "mimetype": "text/x-python",
   "name": "python",
   "nbconvert_exporter": "python",
   "pygments_lexer": "ipython3",
   "version": "3.11.5"
  }
 },
 "nbformat": 4,
 "nbformat_minor": 1
}
